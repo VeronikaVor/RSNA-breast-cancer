{
 "cells": [
  {
   "cell_type": "markdown",
   "id": "ce10644b",
   "metadata": {
    "papermill": {
     "duration": 0.008496,
     "end_time": "2023-04-02T07:08:47.113076",
     "exception": false,
     "start_time": "2023-04-02T07:08:47.104580",
     "status": "completed"
    },
    "tags": []
   },
   "source": [
    "# **Шаг 1**: Предобработка тестового датасета"
   ]
  },
  {
   "cell_type": "markdown",
   "id": "4c87b867",
   "metadata": {
    "papermill": {
     "duration": 0.006814,
     "end_time": "2023-04-02T07:08:47.127628",
     "exception": false,
     "start_time": "2023-04-02T07:08:47.120814",
     "status": "completed"
    },
    "tags": []
   },
   "source": [
    "Загрузим стандартные библиотеки для работы с данными и визуализации:"
   ]
  },
  {
   "cell_type": "code",
   "execution_count": 1,
   "id": "396fc995",
   "metadata": {
    "execution": {
     "iopub.execute_input": "2023-04-02T07:08:47.144676Z",
     "iopub.status.busy": "2023-04-02T07:08:47.143900Z",
     "iopub.status.idle": "2023-04-02T07:09:23.028429Z",
     "shell.execute_reply": "2023-04-02T07:09:23.027415Z"
    },
    "papermill": {
     "duration": 35.896024,
     "end_time": "2023-04-02T07:09:23.031150",
     "exception": false,
     "start_time": "2023-04-02T07:08:47.135126",
     "status": "completed"
    },
    "tags": []
   },
   "outputs": [
    {
     "name": "stdout",
     "output_type": "stream",
     "text": [
      "Processing /kaggle/input/rsna-packages/pydicom-2.3.0-py3-none-any.whl\r\n",
      "Processing /kaggle/input/rsna-packages/pylibjpeg-1.4.0-py3-none-any.whl\r\n",
      "Processing /kaggle/input/rsna-packages/python_gdcm-3.0.15-cp37-cp37m-manylinux_2_17_x86_64.manylinux2014_x86_64.whl\r\n",
      "Requirement already satisfied: numpy in /opt/conda/lib/python3.7/site-packages (from pylibjpeg==1.4.0) (1.21.6)\r\n",
      "Installing collected packages: python-gdcm, pylibjpeg, pydicom\r\n",
      "  Attempting uninstall: pydicom\r\n",
      "    Found existing installation: pydicom 2.3.1\r\n",
      "    Uninstalling pydicom-2.3.1:\r\n",
      "      Successfully uninstalled pydicom-2.3.1\r\n",
      "Successfully installed pydicom-2.3.0 pylibjpeg-1.4.0 python-gdcm-3.0.15\r\n",
      "\u001b[33mWARNING: Running pip as the 'root' user can result in broken permissions and conflicting behaviour with the system package manager. It is recommended to use a virtual environment instead: https://pip.pypa.io/warnings/venv\u001b[0m\u001b[33m\r\n",
      "\u001b[0m\u001b[33mWARNING: There was an error checking the latest version of pip.\u001b[0m\u001b[33m\r\n",
      "\u001b[0m"
     ]
    }
   ],
   "source": [
    "import numpy as np                  \n",
    "import pandas as pd\n",
    "import random\n",
    "\n",
    "import os\n",
    "import glob\n",
    "\n",
    "import matplotlib.pyplot as plt\n",
    "## VV: работа с dicom файлами\n",
    "\n",
    "## VV: библиотека для jpeg/dcom \n",
    "try:\n",
    "    import pylibjpeg\n",
    "except:\n",
    "    !pip install /kaggle/input/rsna-packages/{pydicom-2.3.0-py3-none-any.whl,pylibjpeg-1.4.0-py3-none-any.whl,python_gdcm-3.0.15-cp37-cp37m-manylinux_2_17_x86_64.manylinux2014_x86_64.whl}\n",
    "#! pip install -U pylibjpeg pylibjpeg-openjpeg pylibjpeg-libjpeg pydicom python-gdcm\n",
    "#! pip install --upgrade pydicom \n",
    "\n",
    "import pydicom\n",
    "\n",
    "## VV: библиотеки для контроля прогресса и распарралеливания\n",
    "from tqdm.notebook import tqdm\n",
    "from joblib import Parallel, delayed\n",
    "import json\n",
    "\n",
    "## VV: библиотека для работы с изображениями\n",
    "import cv2"
   ]
  },
  {
   "cell_type": "markdown",
   "id": "d6280b01",
   "metadata": {
    "papermill": {
     "duration": 0.007477,
     "end_time": "2023-04-02T07:09:23.046514",
     "exception": false,
     "start_time": "2023-04-02T07:09:23.039037",
     "status": "completed"
    },
    "tags": []
   },
   "source": [
    "Посмотрим на тестовый датасет."
   ]
  },
  {
   "cell_type": "code",
   "execution_count": 2,
   "id": "6d219511",
   "metadata": {
    "execution": {
     "iopub.execute_input": "2023-04-02T07:09:23.064443Z",
     "iopub.status.busy": "2023-04-02T07:09:23.063389Z",
     "iopub.status.idle": "2023-04-02T07:09:23.101936Z",
     "shell.execute_reply": "2023-04-02T07:09:23.100678Z"
    },
    "papermill": {
     "duration": 0.050183,
     "end_time": "2023-04-02T07:09:23.104383",
     "exception": false,
     "start_time": "2023-04-02T07:09:23.054200",
     "status": "completed"
    },
    "tags": []
   },
   "outputs": [
    {
     "data": {
      "text/html": [
       "<div>\n",
       "<style scoped>\n",
       "    .dataframe tbody tr th:only-of-type {\n",
       "        vertical-align: middle;\n",
       "    }\n",
       "\n",
       "    .dataframe tbody tr th {\n",
       "        vertical-align: top;\n",
       "    }\n",
       "\n",
       "    .dataframe thead th {\n",
       "        text-align: right;\n",
       "    }\n",
       "</style>\n",
       "<table border=\"1\" class=\"dataframe\">\n",
       "  <thead>\n",
       "    <tr style=\"text-align: right;\">\n",
       "      <th></th>\n",
       "      <th>site_id</th>\n",
       "      <th>patient_id</th>\n",
       "      <th>image_id</th>\n",
       "      <th>laterality</th>\n",
       "      <th>view</th>\n",
       "      <th>age</th>\n",
       "      <th>implant</th>\n",
       "      <th>machine_id</th>\n",
       "      <th>prediction_id</th>\n",
       "    </tr>\n",
       "  </thead>\n",
       "  <tbody>\n",
       "    <tr>\n",
       "      <th>0</th>\n",
       "      <td>2</td>\n",
       "      <td>10008</td>\n",
       "      <td>736471439</td>\n",
       "      <td>L</td>\n",
       "      <td>MLO</td>\n",
       "      <td>81</td>\n",
       "      <td>0</td>\n",
       "      <td>21</td>\n",
       "      <td>10008_L</td>\n",
       "    </tr>\n",
       "    <tr>\n",
       "      <th>1</th>\n",
       "      <td>2</td>\n",
       "      <td>10008</td>\n",
       "      <td>1591370361</td>\n",
       "      <td>L</td>\n",
       "      <td>CC</td>\n",
       "      <td>81</td>\n",
       "      <td>0</td>\n",
       "      <td>21</td>\n",
       "      <td>10008_L</td>\n",
       "    </tr>\n",
       "    <tr>\n",
       "      <th>2</th>\n",
       "      <td>2</td>\n",
       "      <td>10008</td>\n",
       "      <td>68070693</td>\n",
       "      <td>R</td>\n",
       "      <td>MLO</td>\n",
       "      <td>81</td>\n",
       "      <td>0</td>\n",
       "      <td>21</td>\n",
       "      <td>10008_R</td>\n",
       "    </tr>\n",
       "    <tr>\n",
       "      <th>3</th>\n",
       "      <td>2</td>\n",
       "      <td>10008</td>\n",
       "      <td>361203119</td>\n",
       "      <td>R</td>\n",
       "      <td>CC</td>\n",
       "      <td>81</td>\n",
       "      <td>0</td>\n",
       "      <td>21</td>\n",
       "      <td>10008_R</td>\n",
       "    </tr>\n",
       "  </tbody>\n",
       "</table>\n",
       "</div>"
      ],
      "text/plain": [
       "   site_id  patient_id    image_id laterality view  age  implant  machine_id  \\\n",
       "0        2       10008   736471439          L  MLO   81        0          21   \n",
       "1        2       10008  1591370361          L   CC   81        0          21   \n",
       "2        2       10008    68070693          R  MLO   81        0          21   \n",
       "3        2       10008   361203119          R   CC   81        0          21   \n",
       "\n",
       "  prediction_id  \n",
       "0       10008_L  \n",
       "1       10008_L  \n",
       "2       10008_R  \n",
       "3       10008_R  "
      ]
     },
     "execution_count": 2,
     "metadata": {},
     "output_type": "execute_result"
    }
   ],
   "source": [
    "df_test = pd.read_csv('/kaggle/input/rsna-breast-cancer-detection/test.csv')\n",
    "df_test"
   ]
  },
  {
   "cell_type": "markdown",
   "id": "170abb61",
   "metadata": {
    "papermill": {
     "duration": 0.007549,
     "end_time": "2023-04-02T07:09:23.119871",
     "exception": false,
     "start_time": "2023-04-02T07:09:23.112322",
     "status": "completed"
    },
    "tags": []
   },
   "source": [
    "Пропишем пути к изображениям в датасет."
   ]
  },
  {
   "cell_type": "code",
   "execution_count": 3,
   "id": "3252b553",
   "metadata": {
    "execution": {
     "iopub.execute_input": "2023-04-02T07:09:23.138692Z",
     "iopub.status.busy": "2023-04-02T07:09:23.137836Z",
     "iopub.status.idle": "2023-04-02T07:09:23.153493Z",
     "shell.execute_reply": "2023-04-02T07:09:23.152192Z"
    },
    "papermill": {
     "duration": 0.028508,
     "end_time": "2023-04-02T07:09:23.156167",
     "exception": false,
     "start_time": "2023-04-02T07:09:23.127659",
     "status": "completed"
    },
    "tags": []
   },
   "outputs": [
    {
     "data": {
      "text/plain": [
       "'/kaggle/input/rsna-breast-cancer-detection/test_images/10008/736471439.dcm'"
      ]
     },
     "execution_count": 3,
     "metadata": {},
     "output_type": "execute_result"
    }
   ],
   "source": [
    "df_test['image_path'] =  '/kaggle/input/rsna-breast-cancer-detection/test_images/' + \\\n",
    "df_test.patient_id.map(str) + \\\n",
    "'/' + df_test.image_id.map(str) + '.dcm'\n",
    "\n",
    "df_test.iloc[0]['image_path']"
   ]
  },
  {
   "cell_type": "markdown",
   "id": "cd315501",
   "metadata": {
    "papermill": {
     "duration": 0.007961,
     "end_time": "2023-04-02T07:09:23.172520",
     "exception": false,
     "start_time": "2023-04-02T07:09:23.164559",
     "status": "completed"
    },
    "tags": []
   },
   "source": [
    "Используем ту же предобработку, что и для тренировочного датасета."
   ]
  },
  {
   "cell_type": "code",
   "execution_count": 4,
   "id": "bbc7c6f0",
   "metadata": {
    "execution": {
     "iopub.execute_input": "2023-04-02T07:09:23.191451Z",
     "iopub.status.busy": "2023-04-02T07:09:23.190987Z",
     "iopub.status.idle": "2023-04-02T07:09:23.206995Z",
     "shell.execute_reply": "2023-04-02T07:09:23.205961Z"
    },
    "papermill": {
     "duration": 0.028289,
     "end_time": "2023-04-02T07:09:23.209217",
     "exception": false,
     "start_time": "2023-04-02T07:09:23.180928",
     "status": "completed"
    },
    "tags": []
   },
   "outputs": [],
   "source": [
    "## VV: адаптировано из блокнота https://www.kaggle.com/code/fabiendaniel/dicom-cropped-resized-png-jpg\n",
    "def crop_image(path, show=True, width=224, height=224, resize = True, gabor = False): ## определим функцию\n",
    "    dicom = pydicom.dcmread(path)               ## прочитаем dicom            \n",
    "    later = dicom.ImageLaterality               ## правая или левая грудь\n",
    "    img = dicom.pixel_array                     ## прочитаем само изображение\n",
    "    if img.max() - img.min() != 0:\n",
    "        img = (img - img.min()) / (img.max() - img.min()) ## проведем нормализацию   \n",
    "    img *= 255                                  ## от диапазона 0-1 перейдем к 0-255\n",
    "    img = np.uint8(img)\n",
    "\n",
    "    if dicom.PhotometricInterpretation == \"MONOCHROME1\":\n",
    "        img = 1 - img ## VV: приведение к одному виду фотометрической интерпретации\n",
    "\n",
    "    bin_pixels = cv2.threshold(img, 20, 255, cv2.THRESH_BINARY)[1] ## проведем бинаризацию\n",
    "   \n",
    "    # определим контуры на изображении\n",
    "    contours, _ = cv2.findContours(bin_pixels.astype(np.uint8), \\\n",
    "                                   cv2.RETR_EXTERNAL, cv2.CHAIN_APPROX_NONE)\n",
    "    contour = max(contours, key=cv2.contourArea)\n",
    "\n",
    "    # Create a mask from the largest contour\n",
    "    mask = np.zeros(img.shape, np.uint8)\n",
    "    cv2.drawContours(mask, [contour], -1, 255, cv2.FILLED)\n",
    "   \n",
    "    # Use bitwise_and to get masked part of the original image\n",
    "    out = cv2.bitwise_and(img,mask)\n",
    "    \n",
    "    # get bounding box of contour\n",
    "    y1, y2 = np.min(contour[:, :, 1]), np.max(contour[:, :, 1])\n",
    "    x1, x2 = np.min(contour[:, :, 0]), np.max(contour[:, :, 0])\n",
    "    \n",
    "    x1 = int(0.99 * x1)\n",
    "    x2 = int(1.01 * x2)\n",
    "    y1 = int(0.99 * y1)\n",
    "    y2 = int(1.01 * y2)\n",
    "    cropped = out[y1:y2, x1:x2]\n",
    "    \n",
    "    if gabor:\n",
    "        ksize = 35  # The local area to evaluate\n",
    "        sigma = 3.0  # Larger Values produce more edges\n",
    "        lambd = 10.0\n",
    "        gamma = 0.5\n",
    "        psi = 0 \n",
    "        theta = 0.57 ## check EDA for details\n",
    "        kern = cv2.getGaborKernel((ksize, ksize), sigma, theta, lambd, gamma, psi, ktype=cv2.CV_64F)\n",
    "    \n",
    "    ## VV: let's resize\n",
    "    dim = (width, height)\n",
    "    resized = cv2.resize(cropped, dim,interpolation = cv2.INTER_AREA)\n",
    "    if later == 'R':\n",
    "        resized = cv2.flip(resized, 1) ## приведем все к одной латеральности\n",
    "    if show:\n",
    "        if resize:\n",
    "            plt.imshow(resized, cmap=\"turbo\") \n",
    "        else:\n",
    "            plt.imshow(cropped, cmap=\"turbo\")\n",
    "    if resize:\n",
    "        return resized ## изменим размер\n",
    "    else:\n",
    "        return cropped ## или просто остановимся на вырезанном фрагменте"
   ]
  },
  {
   "cell_type": "markdown",
   "id": "64e8f3f1",
   "metadata": {
    "papermill": {
     "duration": 0.007573,
     "end_time": "2023-04-02T07:09:23.224813",
     "exception": false,
     "start_time": "2023-04-02T07:09:23.217240",
     "status": "completed"
    },
    "tags": []
   },
   "source": [
    "Сделаем предобработку изображений тестового датасета, пропишем новые пути в тестовый датасет."
   ]
  },
  {
   "cell_type": "code",
   "execution_count": 5,
   "id": "d7f1682c",
   "metadata": {
    "execution": {
     "iopub.execute_input": "2023-04-02T07:09:23.242883Z",
     "iopub.status.busy": "2023-04-02T07:09:23.242179Z",
     "iopub.status.idle": "2023-04-02T07:09:28.383403Z",
     "shell.execute_reply": "2023-04-02T07:09:28.381969Z"
    },
    "papermill": {
     "duration": 5.15337,
     "end_time": "2023-04-02T07:09:28.386077",
     "exception": false,
     "start_time": "2023-04-02T07:09:23.232707",
     "status": "completed"
    },
    "tags": []
   },
   "outputs": [
    {
     "data": {
      "application/vnd.jupyter.widget-view+json": {
       "model_id": "655769d1db1642518fccc68960f80e2b",
       "version_major": 2,
       "version_minor": 0
      },
      "text/plain": [
       "  0%|          | 0/4 [00:00<?, ?it/s]"
      ]
     },
     "metadata": {},
     "output_type": "display_data"
    }
   ],
   "source": [
    "DATASET_NAME_test = f'RSNA-cropped-png-test'\n",
    "SAVE_FOLDER_test = f\"/kaggle/working/{DATASET_NAME_test}\"\n",
    "EXTENSION = 'png'\n",
    "os.makedirs(SAVE_FOLDER_test, exist_ok=True)\n",
    "def process(f,save_folder=\"\", extension=\"png\"):\n",
    "    patient = f.split('/')[-2]\n",
    "    image = f.split('/')[-1][:-4]\n",
    "    img = crop_image(f, gabor = True)\n",
    "    cv2.imwrite(f\"{SAVE_FOLDER_test}/{patient}_{image}.{extension}\", img)\n",
    "\n",
    "\n",
    "paths_test = df_test['image_path']\n",
    "\n",
    "_ = Parallel(n_jobs=4)(\n",
    "    delayed(process)(uid, save_folder=SAVE_FOLDER_test, extension=EXTENSION)\n",
    "    for uid in tqdm(paths_test)\n",
    ")\n",
    "   \n",
    "df_test['new_image_path'] = SAVE_FOLDER_test + '/' +\\\n",
    "df_test.patient_id.map(str) + '_' +\\\n",
    "df_test.image_id.map(str) + '.' +\\\n",
    "EXTENSION     "
   ]
  },
  {
   "cell_type": "markdown",
   "id": "7bc7b74c",
   "metadata": {
    "papermill": {
     "duration": 0.007999,
     "end_time": "2023-04-02T07:09:28.402626",
     "exception": false,
     "start_time": "2023-04-02T07:09:28.394627",
     "status": "completed"
    },
    "tags": []
   },
   "source": [
    "Теперь используем функцию, чтобы предобработать изображения из тренировочного набора. Определим, папку для сохранения и формат. Для этого возьмем за основу код из блокнота dicom-cropped-resized-png-jpg.\n",
    "\n",
    "Определим параметры для сохранения изображений и создадим папку:"
   ]
  },
  {
   "cell_type": "code",
   "execution_count": 6,
   "id": "9275f1c7",
   "metadata": {
    "execution": {
     "iopub.execute_input": "2023-04-02T07:09:28.422085Z",
     "iopub.status.busy": "2023-04-02T07:09:28.421286Z",
     "iopub.status.idle": "2023-04-02T07:09:28.428468Z",
     "shell.execute_reply": "2023-04-02T07:09:28.427309Z"
    },
    "papermill": {
     "duration": 0.019979,
     "end_time": "2023-04-02T07:09:28.430799",
     "exception": false,
     "start_time": "2023-04-02T07:09:28.410820",
     "status": "completed"
    },
    "tags": []
   },
   "outputs": [],
   "source": [
    "# df_train_cut_cut\n",
    "#df_train_cut['new_image_path'] = '/kaggle/input/pytorch-and-rsna-screening-mammography' + '/' +\\\n",
    "df_test['new_image_path'] = SAVE_FOLDER_test + '/' +\\\n",
    "df_test.patient_id.map(str) + '_' +\\\n",
    "df_test.image_id.map(str) + '.' +\\\n",
    "EXTENSION "
   ]
  },
  {
   "cell_type": "markdown",
   "id": "70ba39c7",
   "metadata": {
    "papermill": {
     "duration": 0.007795,
     "end_time": "2023-04-02T07:09:28.446806",
     "exception": false,
     "start_time": "2023-04-02T07:09:28.439011",
     "status": "completed"
    },
    "tags": []
   },
   "source": [
    "На случай, если в датасете есть пропуски по возрасту, заменим их"
   ]
  },
  {
   "cell_type": "code",
   "execution_count": 7,
   "id": "99ef9473",
   "metadata": {
    "execution": {
     "iopub.execute_input": "2023-04-02T07:09:28.464853Z",
     "iopub.status.busy": "2023-04-02T07:09:28.464128Z",
     "iopub.status.idle": "2023-04-02T07:09:28.470107Z",
     "shell.execute_reply": "2023-04-02T07:09:28.469302Z"
    },
    "papermill": {
     "duration": 0.017582,
     "end_time": "2023-04-02T07:09:28.472338",
     "exception": false,
     "start_time": "2023-04-02T07:09:28.454756",
     "status": "completed"
    },
    "tags": []
   },
   "outputs": [],
   "source": [
    "df_test['age'] = df_test['age'].fillna((df_test['age'].mean()))"
   ]
  },
  {
   "cell_type": "markdown",
   "id": "b4381fc6",
   "metadata": {
    "papermill": {
     "duration": 0.007829,
     "end_time": "2023-04-02T07:09:28.488475",
     "exception": false,
     "start_time": "2023-04-02T07:09:28.480646",
     "status": "completed"
    },
    "tags": []
   },
   "source": [
    "# **Шаг 2:** Инференс"
   ]
  },
  {
   "cell_type": "markdown",
   "id": "f02a43bc",
   "metadata": {
    "papermill": {
     "duration": 0.007825,
     "end_time": "2023-04-02T07:09:28.504420",
     "exception": false,
     "start_time": "2023-04-02T07:09:28.496595",
     "status": "completed"
    },
    "tags": []
   },
   "source": [
    "Импортируем библиотеки:"
   ]
  },
  {
   "cell_type": "code",
   "execution_count": 8,
   "id": "42f1284d",
   "metadata": {
    "execution": {
     "iopub.execute_input": "2023-04-02T07:09:28.522781Z",
     "iopub.status.busy": "2023-04-02T07:09:28.522051Z",
     "iopub.status.idle": "2023-04-02T07:09:30.464642Z",
     "shell.execute_reply": "2023-04-02T07:09:30.463407Z"
    },
    "papermill": {
     "duration": 1.955012,
     "end_time": "2023-04-02T07:09:30.467449",
     "exception": false,
     "start_time": "2023-04-02T07:09:28.512437",
     "status": "completed"
    },
    "tags": []
   },
   "outputs": [],
   "source": [
    "from PIL import Image\n",
    "## VV: библиотеки для анализа изображений и построения нейронной сети и подгрузки данных\n",
    "import random\n",
    "import torch\n",
    "import torch.nn as nn\n",
    "import torch.nn.functional as F\n",
    "import torch.optim as optim\n",
    "import torchvision.transforms as transforms\n",
    "import torchvision.models as models\n",
    "from torch.utils.data import Dataset, DataLoader"
   ]
  },
  {
   "cell_type": "code",
   "execution_count": 9,
   "id": "8bfbcf3d",
   "metadata": {
    "execution": {
     "iopub.execute_input": "2023-04-02T07:09:30.485604Z",
     "iopub.status.busy": "2023-04-02T07:09:30.484918Z",
     "iopub.status.idle": "2023-04-02T07:09:36.042539Z",
     "shell.execute_reply": "2023-04-02T07:09:36.041317Z"
    },
    "papermill": {
     "duration": 5.570004,
     "end_time": "2023-04-02T07:09:36.045627",
     "exception": false,
     "start_time": "2023-04-02T07:09:30.475623",
     "status": "completed"
    },
    "tags": []
   },
   "outputs": [],
   "source": [
    "mod = torch.load('/kaggle/input/rsna-packages/vgg11_bn.pt')"
   ]
  },
  {
   "cell_type": "markdown",
   "id": "0c54d553",
   "metadata": {
    "papermill": {
     "duration": 0.007786,
     "end_time": "2023-04-02T07:09:36.061810",
     "exception": false,
     "start_time": "2023-04-02T07:09:36.054024",
     "status": "completed"
    },
    "tags": []
   },
   "source": [
    "Загрузим обученную модель"
   ]
  },
  {
   "cell_type": "code",
   "execution_count": 10,
   "id": "fd7ef6c5",
   "metadata": {
    "execution": {
     "iopub.execute_input": "2023-04-02T07:09:36.080089Z",
     "iopub.status.busy": "2023-04-02T07:09:36.078925Z",
     "iopub.status.idle": "2023-04-02T07:09:39.443172Z",
     "shell.execute_reply": "2023-04-02T07:09:39.442007Z"
    },
    "papermill": {
     "duration": 3.3763,
     "end_time": "2023-04-02T07:09:39.446098",
     "exception": false,
     "start_time": "2023-04-02T07:09:36.069798",
     "status": "completed"
    },
    "tags": []
   },
   "outputs": [],
   "source": [
    "## need to generate a dummy model to be able to load a final one\n",
    "## https://stackoverflow.com/questions/55488795/unpickling-saved-pytorch-model-throws-attributeerror-cant-get-attribute-net\n",
    "class RSNA_model(nn.Module):\n",
    "    def __init__(self,model,csv_use = False, n_neu=4,  csv_neu=2):\n",
    "        super().__init__()\n",
    "        self.n_neu = n_neu       \n",
    "        self.csv_neu = csv_neu\n",
    "        self.csv_use = csv_use\n",
    "        self.features = model\n",
    "        self.num_classes = model.num_classes\n",
    "        self.csv = nn.Sequential(nn.Linear(self.csv_neu, self.n_neu),\n",
    "                                 nn.ReLU(),\n",
    "                                 nn.Linear(self.n_neu, 100),\n",
    "                                 nn.ReLU())\n",
    "        if self.csv_use:\n",
    "            self.classif = nn.Linear(model.num_classes + 100, 2)\n",
    "        else:\n",
    "            self.classif = nn.Linear(model.num_classes, 2)\n",
    "        \n",
    "        \n",
    "    def forward(self, img, meta):\n",
    "        img_1 = self.features(img)\n",
    "        meta_1 = self.csv(meta)\n",
    "        if self.csv_use:\n",
    "            x = torch.cat((img_1, meta_1), dim=1)       \n",
    "        else:\n",
    "            x = img_1\n",
    "        x   = self.classif(x)\n",
    "        return x\n",
    "\n",
    "    \n",
    "dummy_model = RSNA_model(mod)\n",
    "\n",
    "device = torch.device(\"cuda\" if torch.cuda.is_available() else \"cpu\")\n",
    "\n",
    "final_model = torch.load('/kaggle/input/rsna-breast-cancer-pt-3-model-training/best_model.pt',\\\n",
    "                        map_location=device)"
   ]
  },
  {
   "cell_type": "markdown",
   "id": "9b14eecc",
   "metadata": {
    "papermill": {
     "duration": 0.007787,
     "end_time": "2023-04-02T07:09:39.462199",
     "exception": false,
     "start_time": "2023-04-02T07:09:39.454412",
     "status": "completed"
    },
    "tags": []
   },
   "source": [
    "Зафиксируем генератор случайных чисел для воспроизводимости результатов:"
   ]
  },
  {
   "cell_type": "code",
   "execution_count": 11,
   "id": "4289f09d",
   "metadata": {
    "execution": {
     "iopub.execute_input": "2023-04-02T07:09:39.480719Z",
     "iopub.status.busy": "2023-04-02T07:09:39.479706Z",
     "iopub.status.idle": "2023-04-02T07:09:39.489596Z",
     "shell.execute_reply": "2023-04-02T07:09:39.488512Z"
    },
    "papermill": {
     "duration": 0.022015,
     "end_time": "2023-04-02T07:09:39.492288",
     "exception": false,
     "start_time": "2023-04-02T07:09:39.470273",
     "status": "completed"
    },
    "tags": []
   },
   "outputs": [],
   "source": [
    "def seed_everything(seed):\n",
    "    random.seed(seed) # фиксируем генератор случайных чисел\n",
    "    os.environ['PYTHONHASHSEED'] = str(seed) # фиксируем заполнения хешей\n",
    "    np.random.seed(seed) # фиксируем генератор случайных чисел numpy\n",
    "    torch.manual_seed(seed) # фиксируем генератор случайных чисел pytorch\n",
    "    torch.cuda.manual_seed(seed) # фиксируем генератор случайных чисел для GPU\n",
    "    torch.backends.cudnn.deterministic = True # выбираем только детерминированные алгоритмы (для сверток)\n",
    "    torch.backends.cudnn.benchmark = False # фиксируем алгоритм вычисления сверток\n",
    "\n",
    "seed_everything(12345)"
   ]
  },
  {
   "cell_type": "markdown",
   "id": "ec5468f2",
   "metadata": {
    "papermill": {
     "duration": 0.007805,
     "end_time": "2023-04-02T07:09:39.508293",
     "exception": false,
     "start_time": "2023-04-02T07:09:39.500488",
     "status": "completed"
    },
    "tags": []
   },
   "source": [
    "Создадим класс для работы с датасетом. Наследуемся от класса Dataset https://pytorch.org/docs/stable/data.html#torch.utils.data.Dataset"
   ]
  },
  {
   "cell_type": "code",
   "execution_count": 12,
   "id": "d4f1fcb9",
   "metadata": {
    "execution": {
     "iopub.execute_input": "2023-04-02T07:09:39.526872Z",
     "iopub.status.busy": "2023-04-02T07:09:39.525799Z",
     "iopub.status.idle": "2023-04-02T07:09:39.539634Z",
     "shell.execute_reply": "2023-04-02T07:09:39.538434Z"
    },
    "papermill": {
     "duration": 0.025745,
     "end_time": "2023-04-02T07:09:39.542160",
     "exception": false,
     "start_time": "2023-04-02T07:09:39.516415",
     "status": "completed"
    },
    "tags": []
   },
   "outputs": [],
   "source": [
    "## VV: адаптировано из https://www.kaggle.com/code/andradaolteanu/rsna-breast-cancer-eda-pytorch-baseline\n",
    "class RSNADataset(Dataset):\n",
    "    \n",
    "    def __init__(self, dataframe, path_ds, csv_columns, augment = False, is_train=True):\n",
    "        self.dataframe = dataframe\n",
    "        self.is_train = is_train\n",
    "        self.path_ds = path_ds\n",
    "        self.csv_columns = csv_columns\n",
    "        if augment:\n",
    "            self.transform = transforms.Compose([#transforms.RandomHorizontalFlip(p = 0.5),\n",
    "                                                 #transforms.RandomVerticalFlip(p = 0.3),\n",
    "                                                 transforms.RandomPerspective(p=0.1),\n",
    "                                                 transforms.RandomRotation(degrees=(-90,90)),\n",
    "                                                 transforms.Grayscale(num_output_channels=3),\n",
    "                                                 transforms.ToTensor()])\n",
    "        else:\n",
    "            self.transform = transforms.Compose([transforms.Grayscale(num_output_channels=3),\n",
    "                                                 transforms.ToTensor()])\n",
    "        \n",
    "    def __len__(self):\n",
    "        return len(self.dataframe)\n",
    "    \n",
    "    def __getitem__(self, index):\n",
    "        self.dataframe['new_image_path'] =  self.path_ds + \\\n",
    "        self.dataframe.patient_id.map(str) + '_' + \\\n",
    "        self.dataframe.image_id.map(str) + '.png'\n",
    "\n",
    "        image_path = self.dataframe['new_image_path'].iloc[index]\n",
    "        im_frame = Image.open(image_path)\n",
    "        transf_image = (self.transform(im_frame))        \n",
    "        csv_data = (np.array(self.dataframe.iloc[index][self.csv_columns].values, \n",
    "                            dtype=np.float32)) #torch.FloatTensor\n",
    "        if not self.is_train:\n",
    "            self.dataframe = self.dataframe.replace({'R': 0, 'L' : 1})\n",
    "            subm_data = (np.array(self.dataframe.iloc[index][['patient_id','laterality']].values,dtype=np.float32)) #,'laterality'\n",
    "           # subm_data = csv_data #(np.array(self.dataframe.iloc[index][['patient_id']].values,dtype=np.float32))\n",
    "        # Apply transforms\n",
    "        \n",
    "        \n",
    "        if self.is_train:\n",
    "            label = self.dataframe['cancer'].iloc[index]\n",
    "            return transf_image, csv_data, label\n",
    "           # return {\"image\": transf_image, \n",
    "            #        \"meta\": csv_data, \n",
    "            #        \"target\": self.dataframe['cancer'].iloc[index]}\n",
    "        else:\n",
    "            return transf_image, csv_data, subm_data\n",
    "           # return {\"image\": transf_image, \n",
    "           #         \"meta\": csv_data}"
   ]
  },
  {
   "cell_type": "markdown",
   "id": "e5ef7c58",
   "metadata": {
    "papermill": {
     "duration": 0.00791,
     "end_time": "2023-04-02T07:09:39.558310",
     "exception": false,
     "start_time": "2023-04-02T07:09:39.550400",
     "status": "completed"
    },
    "tags": []
   },
   "source": [
    "Создадим экземпляр класса."
   ]
  },
  {
   "cell_type": "code",
   "execution_count": 13,
   "id": "e26106fc",
   "metadata": {
    "execution": {
     "iopub.execute_input": "2023-04-02T07:09:39.576525Z",
     "iopub.status.busy": "2023-04-02T07:09:39.576127Z",
     "iopub.status.idle": "2023-04-02T07:09:39.582431Z",
     "shell.execute_reply": "2023-04-02T07:09:39.581112Z"
    },
    "papermill": {
     "duration": 0.018072,
     "end_time": "2023-04-02T07:09:39.584621",
     "exception": false,
     "start_time": "2023-04-02T07:09:39.566549",
     "status": "completed"
    },
    "tags": []
   },
   "outputs": [],
   "source": [
    "TEST_BATCH_SIZE = 40\n",
    "rsna_test = RSNADataset(df_test, \n",
    "                        csv_columns = ['age','implant'], \n",
    "                        path_ds = SAVE_FOLDER_test + '/',\n",
    "                        is_train=False)\n",
    "\n",
    "test_loader = torch.utils.data.DataLoader(rsna_test, \n",
    "                                           batch_size = TEST_BATCH_SIZE,\n",
    "                                           shuffle = False, \n",
    "                                           drop_last = False)\n"
   ]
  },
  {
   "cell_type": "markdown",
   "id": "cbede92d",
   "metadata": {
    "papermill": {
     "duration": 0.007857,
     "end_time": "2023-04-02T07:09:39.600719",
     "exception": false,
     "start_time": "2023-04-02T07:09:39.592862",
     "status": "completed"
    },
    "tags": []
   },
   "source": [
    "Зададим функцию для тестирования модели"
   ]
  },
  {
   "cell_type": "code",
   "execution_count": 14,
   "id": "1a5d46ef",
   "metadata": {
    "execution": {
     "iopub.execute_input": "2023-04-02T07:09:39.618781Z",
     "iopub.status.busy": "2023-04-02T07:09:39.618407Z",
     "iopub.status.idle": "2023-04-02T07:09:39.631079Z",
     "shell.execute_reply": "2023-04-02T07:09:39.629750Z"
    },
    "papermill": {
     "duration": 0.024805,
     "end_time": "2023-04-02T07:09:39.633615",
     "exception": false,
     "start_time": "2023-04-02T07:09:39.608810",
     "status": "completed"
    },
    "tags": []
   },
   "outputs": [],
   "source": [
    "def test(model, loader):\n",
    "    with torch.no_grad():\n",
    "        model.eval()\n",
    "        probs = []\n",
    "        prediction_id = []\n",
    "        preds = []\n",
    "        for k, data in enumerate(loader): # valid_loader):\n",
    "            image, meta, subm_data = data\n",
    "            image, meta = image.to(device), meta.to(device)\n",
    "            out = model(image, meta)\n",
    "            pred = out.argmax(dim=1, keepdim=True).detach().cpu().numpy()\n",
    "            #print(pred)\n",
    "            prob_fun = nn.Softmax(dim=1)\n",
    "            prob = prob_fun(out)[:,1]\n",
    "            preds.append (pred)\n",
    "            probs.append(prob.flatten().detach().cpu().numpy())\n",
    "            laterality = ['L' if i > 0.5 else 'R' for i in subm_data[:,1]]\n",
    "            patient_id = [str(round(i)) for i in subm_data[:,0].numpy()]\n",
    "            pred_id = [i[0] +'_' + i[1] for i in zip(patient_id , laterality)]\n",
    "            prediction_id.append(pred_id)\n",
    "    preds = [item for sublist in preds for item in sublist]        \n",
    "    probs = [item for sublist in probs for item in sublist]\n",
    "    prediction_id = [item for sublist in prediction_id for item in sublist]\n",
    "    submission = pd.DataFrame({'prediction_id': prediction_id,\n",
    "                               'cancer': probs,\n",
    "                              'cancer_pred':preds})\n",
    "    submission = submission.groupby('prediction_id')[['cancer']].agg('mean').reset_index()                            \n",
    "    return submission"
   ]
  },
  {
   "cell_type": "code",
   "execution_count": 15,
   "id": "a0e36518",
   "metadata": {
    "execution": {
     "iopub.execute_input": "2023-04-02T07:09:39.651962Z",
     "iopub.status.busy": "2023-04-02T07:09:39.651551Z",
     "iopub.status.idle": "2023-04-02T07:09:40.499458Z",
     "shell.execute_reply": "2023-04-02T07:09:40.498208Z"
    },
    "papermill": {
     "duration": 0.859941,
     "end_time": "2023-04-02T07:09:40.501862",
     "exception": false,
     "start_time": "2023-04-02T07:09:39.641921",
     "status": "completed"
    },
    "tags": []
   },
   "outputs": [
    {
     "data": {
      "text/html": [
       "<div>\n",
       "<style scoped>\n",
       "    .dataframe tbody tr th:only-of-type {\n",
       "        vertical-align: middle;\n",
       "    }\n",
       "\n",
       "    .dataframe tbody tr th {\n",
       "        vertical-align: top;\n",
       "    }\n",
       "\n",
       "    .dataframe thead th {\n",
       "        text-align: right;\n",
       "    }\n",
       "</style>\n",
       "<table border=\"1\" class=\"dataframe\">\n",
       "  <thead>\n",
       "    <tr style=\"text-align: right;\">\n",
       "      <th></th>\n",
       "      <th>prediction_id</th>\n",
       "      <th>cancer</th>\n",
       "    </tr>\n",
       "  </thead>\n",
       "  <tbody>\n",
       "    <tr>\n",
       "      <th>0</th>\n",
       "      <td>10008_L</td>\n",
       "      <td>1</td>\n",
       "    </tr>\n",
       "    <tr>\n",
       "      <th>1</th>\n",
       "      <td>10008_R</td>\n",
       "      <td>1</td>\n",
       "    </tr>\n",
       "  </tbody>\n",
       "</table>\n",
       "</div>"
      ],
      "text/plain": [
       "  prediction_id  cancer\n",
       "0       10008_L       1\n",
       "1       10008_R       1"
      ]
     },
     "execution_count": 15,
     "metadata": {},
     "output_type": "execute_result"
    }
   ],
   "source": [
    "sub = test(final_model,test_loader)\n",
    "sub['cancer'] = sub['cancer'].fillna(0)\n",
    "sub['cancer'] = (sub['cancer'].values > 0.5).astype(int)\n",
    "sub"
   ]
  },
  {
   "cell_type": "code",
   "execution_count": 16,
   "id": "d4cbabc3",
   "metadata": {
    "execution": {
     "iopub.execute_input": "2023-04-02T07:09:40.520429Z",
     "iopub.status.busy": "2023-04-02T07:09:40.520036Z",
     "iopub.status.idle": "2023-04-02T07:09:40.525100Z",
     "shell.execute_reply": "2023-04-02T07:09:40.524234Z"
    },
    "papermill": {
     "duration": 0.017243,
     "end_time": "2023-04-02T07:09:40.527583",
     "exception": false,
     "start_time": "2023-04-02T07:09:40.510340",
     "status": "completed"
    },
    "tags": []
   },
   "outputs": [],
   "source": [
    "import shutil\n",
    "shutil.rmtree(SAVE_FOLDER_test)"
   ]
  },
  {
   "cell_type": "code",
   "execution_count": 17,
   "id": "9441d145",
   "metadata": {
    "execution": {
     "iopub.execute_input": "2023-04-02T07:09:40.546162Z",
     "iopub.status.busy": "2023-04-02T07:09:40.545730Z",
     "iopub.status.idle": "2023-04-02T07:09:40.554346Z",
     "shell.execute_reply": "2023-04-02T07:09:40.553382Z"
    },
    "papermill": {
     "duration": 0.020646,
     "end_time": "2023-04-02T07:09:40.556678",
     "exception": false,
     "start_time": "2023-04-02T07:09:40.536032",
     "status": "completed"
    },
    "tags": []
   },
   "outputs": [],
   "source": [
    "sub.to_csv('/kaggle/working/submission.csv', index=False)"
   ]
  }
 ],
 "metadata": {
  "kernelspec": {
   "display_name": "Python 3",
   "language": "python",
   "name": "python3"
  },
  "language_info": {
   "codemirror_mode": {
    "name": "ipython",
    "version": 3
   },
   "file_extension": ".py",
   "mimetype": "text/x-python",
   "name": "python",
   "nbconvert_exporter": "python",
   "pygments_lexer": "ipython3",
   "version": "3.7.12"
  },
  "papermill": {
   "default_parameters": {},
   "duration": 65.882082,
   "end_time": "2023-04-02T07:09:43.186238",
   "environment_variables": {},
   "exception": null,
   "input_path": "__notebook__.ipynb",
   "output_path": "__notebook__.ipynb",
   "parameters": {},
   "start_time": "2023-04-02T07:08:37.304156",
   "version": "2.3.4"
  },
  "widgets": {
   "application/vnd.jupyter.widget-state+json": {
    "state": {
     "1f24561cbc6249339cf556b23b774569": {
      "model_module": "@jupyter-widgets/controls",
      "model_module_version": "1.5.0",
      "model_name": "HTMLModel",
      "state": {
       "_dom_classes": [],
       "_model_module": "@jupyter-widgets/controls",
       "_model_module_version": "1.5.0",
       "_model_name": "HTMLModel",
       "_view_count": null,
       "_view_module": "@jupyter-widgets/controls",
       "_view_module_version": "1.5.0",
       "_view_name": "HTMLView",
       "description": "",
       "description_tooltip": null,
       "layout": "IPY_MODEL_2f4bbca7a67248c7bcad2e3080a44219",
       "placeholder": "​",
       "style": "IPY_MODEL_802d497eafa043eaa4fe64df7da78ce8",
       "value": "100%"
      }
     },
     "1ffe5fb1b8714a5ab32d30abdb566141": {
      "model_module": "@jupyter-widgets/controls",
      "model_module_version": "1.5.0",
      "model_name": "ProgressStyleModel",
      "state": {
       "_model_module": "@jupyter-widgets/controls",
       "_model_module_version": "1.5.0",
       "_model_name": "ProgressStyleModel",
       "_view_count": null,
       "_view_module": "@jupyter-widgets/base",
       "_view_module_version": "1.2.0",
       "_view_name": "StyleView",
       "bar_color": null,
       "description_width": ""
      }
     },
     "2367f9cdf9094bf483b08bb0c5840f33": {
      "model_module": "@jupyter-widgets/controls",
      "model_module_version": "1.5.0",
      "model_name": "HTMLModel",
      "state": {
       "_dom_classes": [],
       "_model_module": "@jupyter-widgets/controls",
       "_model_module_version": "1.5.0",
       "_model_name": "HTMLModel",
       "_view_count": null,
       "_view_module": "@jupyter-widgets/controls",
       "_view_module_version": "1.5.0",
       "_view_name": "HTMLView",
       "description": "",
       "description_tooltip": null,
       "layout": "IPY_MODEL_be59764d0ef24a58814a293484ffaf70",
       "placeholder": "​",
       "style": "IPY_MODEL_7c67089c13b04732a047b8da1b1c298e",
       "value": " 4/4 [00:00&lt;00:00, 32.93it/s]"
      }
     },
     "2b0f650425234a68abf6086004c4bc2b": {
      "model_module": "@jupyter-widgets/base",
      "model_module_version": "1.2.0",
      "model_name": "LayoutModel",
      "state": {
       "_model_module": "@jupyter-widgets/base",
       "_model_module_version": "1.2.0",
       "_model_name": "LayoutModel",
       "_view_count": null,
       "_view_module": "@jupyter-widgets/base",
       "_view_module_version": "1.2.0",
       "_view_name": "LayoutView",
       "align_content": null,
       "align_items": null,
       "align_self": null,
       "border": null,
       "bottom": null,
       "display": null,
       "flex": null,
       "flex_flow": null,
       "grid_area": null,
       "grid_auto_columns": null,
       "grid_auto_flow": null,
       "grid_auto_rows": null,
       "grid_column": null,
       "grid_gap": null,
       "grid_row": null,
       "grid_template_areas": null,
       "grid_template_columns": null,
       "grid_template_rows": null,
       "height": null,
       "justify_content": null,
       "justify_items": null,
       "left": null,
       "margin": null,
       "max_height": null,
       "max_width": null,
       "min_height": null,
       "min_width": null,
       "object_fit": null,
       "object_position": null,
       "order": null,
       "overflow": null,
       "overflow_x": null,
       "overflow_y": null,
       "padding": null,
       "right": null,
       "top": null,
       "visibility": null,
       "width": null
      }
     },
     "2f4bbca7a67248c7bcad2e3080a44219": {
      "model_module": "@jupyter-widgets/base",
      "model_module_version": "1.2.0",
      "model_name": "LayoutModel",
      "state": {
       "_model_module": "@jupyter-widgets/base",
       "_model_module_version": "1.2.0",
       "_model_name": "LayoutModel",
       "_view_count": null,
       "_view_module": "@jupyter-widgets/base",
       "_view_module_version": "1.2.0",
       "_view_name": "LayoutView",
       "align_content": null,
       "align_items": null,
       "align_self": null,
       "border": null,
       "bottom": null,
       "display": null,
       "flex": null,
       "flex_flow": null,
       "grid_area": null,
       "grid_auto_columns": null,
       "grid_auto_flow": null,
       "grid_auto_rows": null,
       "grid_column": null,
       "grid_gap": null,
       "grid_row": null,
       "grid_template_areas": null,
       "grid_template_columns": null,
       "grid_template_rows": null,
       "height": null,
       "justify_content": null,
       "justify_items": null,
       "left": null,
       "margin": null,
       "max_height": null,
       "max_width": null,
       "min_height": null,
       "min_width": null,
       "object_fit": null,
       "object_position": null,
       "order": null,
       "overflow": null,
       "overflow_x": null,
       "overflow_y": null,
       "padding": null,
       "right": null,
       "top": null,
       "visibility": null,
       "width": null
      }
     },
     "655769d1db1642518fccc68960f80e2b": {
      "model_module": "@jupyter-widgets/controls",
      "model_module_version": "1.5.0",
      "model_name": "HBoxModel",
      "state": {
       "_dom_classes": [],
       "_model_module": "@jupyter-widgets/controls",
       "_model_module_version": "1.5.0",
       "_model_name": "HBoxModel",
       "_view_count": null,
       "_view_module": "@jupyter-widgets/controls",
       "_view_module_version": "1.5.0",
       "_view_name": "HBoxView",
       "box_style": "",
       "children": [
        "IPY_MODEL_1f24561cbc6249339cf556b23b774569",
        "IPY_MODEL_c777e06be2104d21a884ca90f7dbdd03",
        "IPY_MODEL_2367f9cdf9094bf483b08bb0c5840f33"
       ],
       "layout": "IPY_MODEL_2b0f650425234a68abf6086004c4bc2b"
      }
     },
     "7c67089c13b04732a047b8da1b1c298e": {
      "model_module": "@jupyter-widgets/controls",
      "model_module_version": "1.5.0",
      "model_name": "DescriptionStyleModel",
      "state": {
       "_model_module": "@jupyter-widgets/controls",
       "_model_module_version": "1.5.0",
       "_model_name": "DescriptionStyleModel",
       "_view_count": null,
       "_view_module": "@jupyter-widgets/base",
       "_view_module_version": "1.2.0",
       "_view_name": "StyleView",
       "description_width": ""
      }
     },
     "802d497eafa043eaa4fe64df7da78ce8": {
      "model_module": "@jupyter-widgets/controls",
      "model_module_version": "1.5.0",
      "model_name": "DescriptionStyleModel",
      "state": {
       "_model_module": "@jupyter-widgets/controls",
       "_model_module_version": "1.5.0",
       "_model_name": "DescriptionStyleModel",
       "_view_count": null,
       "_view_module": "@jupyter-widgets/base",
       "_view_module_version": "1.2.0",
       "_view_name": "StyleView",
       "description_width": ""
      }
     },
     "be59764d0ef24a58814a293484ffaf70": {
      "model_module": "@jupyter-widgets/base",
      "model_module_version": "1.2.0",
      "model_name": "LayoutModel",
      "state": {
       "_model_module": "@jupyter-widgets/base",
       "_model_module_version": "1.2.0",
       "_model_name": "LayoutModel",
       "_view_count": null,
       "_view_module": "@jupyter-widgets/base",
       "_view_module_version": "1.2.0",
       "_view_name": "LayoutView",
       "align_content": null,
       "align_items": null,
       "align_self": null,
       "border": null,
       "bottom": null,
       "display": null,
       "flex": null,
       "flex_flow": null,
       "grid_area": null,
       "grid_auto_columns": null,
       "grid_auto_flow": null,
       "grid_auto_rows": null,
       "grid_column": null,
       "grid_gap": null,
       "grid_row": null,
       "grid_template_areas": null,
       "grid_template_columns": null,
       "grid_template_rows": null,
       "height": null,
       "justify_content": null,
       "justify_items": null,
       "left": null,
       "margin": null,
       "max_height": null,
       "max_width": null,
       "min_height": null,
       "min_width": null,
       "object_fit": null,
       "object_position": null,
       "order": null,
       "overflow": null,
       "overflow_x": null,
       "overflow_y": null,
       "padding": null,
       "right": null,
       "top": null,
       "visibility": null,
       "width": null
      }
     },
     "c777e06be2104d21a884ca90f7dbdd03": {
      "model_module": "@jupyter-widgets/controls",
      "model_module_version": "1.5.0",
      "model_name": "FloatProgressModel",
      "state": {
       "_dom_classes": [],
       "_model_module": "@jupyter-widgets/controls",
       "_model_module_version": "1.5.0",
       "_model_name": "FloatProgressModel",
       "_view_count": null,
       "_view_module": "@jupyter-widgets/controls",
       "_view_module_version": "1.5.0",
       "_view_name": "ProgressView",
       "bar_style": "success",
       "description": "",
       "description_tooltip": null,
       "layout": "IPY_MODEL_d47e29703a4a4bccade4f6225f59a04b",
       "max": 4.0,
       "min": 0.0,
       "orientation": "horizontal",
       "style": "IPY_MODEL_1ffe5fb1b8714a5ab32d30abdb566141",
       "value": 4.0
      }
     },
     "d47e29703a4a4bccade4f6225f59a04b": {
      "model_module": "@jupyter-widgets/base",
      "model_module_version": "1.2.0",
      "model_name": "LayoutModel",
      "state": {
       "_model_module": "@jupyter-widgets/base",
       "_model_module_version": "1.2.0",
       "_model_name": "LayoutModel",
       "_view_count": null,
       "_view_module": "@jupyter-widgets/base",
       "_view_module_version": "1.2.0",
       "_view_name": "LayoutView",
       "align_content": null,
       "align_items": null,
       "align_self": null,
       "border": null,
       "bottom": null,
       "display": null,
       "flex": null,
       "flex_flow": null,
       "grid_area": null,
       "grid_auto_columns": null,
       "grid_auto_flow": null,
       "grid_auto_rows": null,
       "grid_column": null,
       "grid_gap": null,
       "grid_row": null,
       "grid_template_areas": null,
       "grid_template_columns": null,
       "grid_template_rows": null,
       "height": null,
       "justify_content": null,
       "justify_items": null,
       "left": null,
       "margin": null,
       "max_height": null,
       "max_width": null,
       "min_height": null,
       "min_width": null,
       "object_fit": null,
       "object_position": null,
       "order": null,
       "overflow": null,
       "overflow_x": null,
       "overflow_y": null,
       "padding": null,
       "right": null,
       "top": null,
       "visibility": null,
       "width": null
      }
     }
    },
    "version_major": 2,
    "version_minor": 0
   }
  }
 },
 "nbformat": 4,
 "nbformat_minor": 5
}
