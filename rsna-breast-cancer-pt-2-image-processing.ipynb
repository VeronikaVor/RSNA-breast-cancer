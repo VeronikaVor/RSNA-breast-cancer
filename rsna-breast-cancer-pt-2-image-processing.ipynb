{
 "cells": [
  {
   "cell_type": "markdown",
   "id": "0fd33470",
   "metadata": {
    "papermill": {
     "duration": 0.007935,
     "end_time": "2023-03-29T09:50:21.200491",
     "exception": false,
     "start_time": "2023-03-29T09:50:21.192556",
     "status": "completed"
    },
    "tags": []
   },
   "source": [
    "# **Шаг 1**: Предобработка изображений c использованием библиотеки Computer vision"
   ]
  },
  {
   "cell_type": "markdown",
   "id": "0e4436c2",
   "metadata": {
    "papermill": {
     "duration": 0.00658,
     "end_time": "2023-03-29T09:50:21.214298",
     "exception": false,
     "start_time": "2023-03-29T09:50:21.207718",
     "status": "completed"
    },
    "tags": []
   },
   "source": [
    "Загрузим стандартные библиотеки для работы с данными и визуализации:"
   ]
  },
  {
   "cell_type": "code",
   "execution_count": 1,
   "id": "fea8aefc",
   "metadata": {
    "execution": {
     "iopub.execute_input": "2023-03-29T09:50:21.230557Z",
     "iopub.status.busy": "2023-03-29T09:50:21.229463Z",
     "iopub.status.idle": "2023-03-29T09:50:37.930802Z",
     "shell.execute_reply": "2023-03-29T09:50:37.929492Z"
    },
    "papermill": {
     "duration": 16.712785,
     "end_time": "2023-03-29T09:50:37.933833",
     "exception": false,
     "start_time": "2023-03-29T09:50:21.221048",
     "status": "completed"
    },
    "tags": []
   },
   "outputs": [
    {
     "name": "stdout",
     "output_type": "stream",
     "text": [
      "Processing /kaggle/input/rsna-packages/pydicom-2.3.0-py3-none-any.whl\r\n",
      "Processing /kaggle/input/rsna-packages/pylibjpeg-1.4.0-py3-none-any.whl\r\n",
      "Processing /kaggle/input/rsna-packages/python_gdcm-3.0.15-cp37-cp37m-manylinux_2_17_x86_64.manylinux2014_x86_64.whl\r\n",
      "Requirement already satisfied: numpy in /opt/conda/lib/python3.7/site-packages (from pylibjpeg==1.4.0) (1.21.6)\r\n",
      "Installing collected packages: python-gdcm, pylibjpeg, pydicom\r\n",
      "  Attempting uninstall: pydicom\r\n",
      "    Found existing installation: pydicom 2.3.1\r\n",
      "    Uninstalling pydicom-2.3.1:\r\n",
      "      Successfully uninstalled pydicom-2.3.1\r\n",
      "Successfully installed pydicom-2.3.0 pylibjpeg-1.4.0 python-gdcm-3.0.15\r\n",
      "\u001b[33mWARNING: Running pip as the 'root' user can result in broken permissions and conflicting behaviour with the system package manager. It is recommended to use a virtual environment instead: https://pip.pypa.io/warnings/venv\u001b[0m\u001b[33m\r\n",
      "\u001b[0m"
     ]
    }
   ],
   "source": [
    "import numpy as np                  \n",
    "import pandas as pd\n",
    "import matplotlib.pyplot as plt\n",
    "\n",
    "import os\n",
    "import glob\n",
    "\n",
    "from tqdm.notebook import tqdm\n",
    "from joblib import Parallel, delayed\n",
    "import json\n",
    "\n",
    "import cv2\n",
    "\n",
    "try:\n",
    "    import pylibjpeg\n",
    "except:\n",
    "    !pip install /kaggle/input/rsna-packages/{pydicom-2.3.0-py3-none-any.whl,pylibjpeg-1.4.0-py3-none-any.whl,python_gdcm-3.0.15-cp37-cp37m-manylinux_2_17_x86_64.manylinux2014_x86_64.whl}\n",
    "#! pip install -U pylibjpeg pylibjpeg-openjpeg pylibjpeg-libjpeg pydicom python-gdcm\n",
    "#! pip install --upgrade pydicom \n",
    "\n",
    "import pydicom"
   ]
  },
  {
   "cell_type": "code",
   "execution_count": 2,
   "id": "2a00a40d",
   "metadata": {
    "execution": {
     "iopub.execute_input": "2023-03-29T09:50:37.951474Z",
     "iopub.status.busy": "2023-03-29T09:50:37.950489Z",
     "iopub.status.idle": "2023-03-29T09:50:38.103098Z",
     "shell.execute_reply": "2023-03-29T09:50:38.101895Z"
    },
    "papermill": {
     "duration": 0.164166,
     "end_time": "2023-03-29T09:50:38.105667",
     "exception": false,
     "start_time": "2023-03-29T09:50:37.941501",
     "status": "completed"
    },
    "tags": []
   },
   "outputs": [
    {
     "data": {
      "text/html": [
       "<div>\n",
       "<style scoped>\n",
       "    .dataframe tbody tr th:only-of-type {\n",
       "        vertical-align: middle;\n",
       "    }\n",
       "\n",
       "    .dataframe tbody tr th {\n",
       "        vertical-align: top;\n",
       "    }\n",
       "\n",
       "    .dataframe thead th {\n",
       "        text-align: right;\n",
       "    }\n",
       "</style>\n",
       "<table border=\"1\" class=\"dataframe\">\n",
       "  <thead>\n",
       "    <tr style=\"text-align: right;\">\n",
       "      <th></th>\n",
       "      <th>site_id</th>\n",
       "      <th>patient_id</th>\n",
       "      <th>image_id</th>\n",
       "      <th>laterality</th>\n",
       "      <th>view</th>\n",
       "      <th>age</th>\n",
       "      <th>cancer</th>\n",
       "      <th>biopsy</th>\n",
       "      <th>invasive</th>\n",
       "      <th>BIRADS</th>\n",
       "      <th>implant</th>\n",
       "      <th>density</th>\n",
       "      <th>machine_id</th>\n",
       "      <th>difficult_negative_case</th>\n",
       "    </tr>\n",
       "  </thead>\n",
       "  <tbody>\n",
       "    <tr>\n",
       "      <th>0</th>\n",
       "      <td>2</td>\n",
       "      <td>10006</td>\n",
       "      <td>462822612</td>\n",
       "      <td>L</td>\n",
       "      <td>CC</td>\n",
       "      <td>61.0</td>\n",
       "      <td>0</td>\n",
       "      <td>0</td>\n",
       "      <td>0</td>\n",
       "      <td>NaN</td>\n",
       "      <td>0</td>\n",
       "      <td>NaN</td>\n",
       "      <td>29</td>\n",
       "      <td>False</td>\n",
       "    </tr>\n",
       "    <tr>\n",
       "      <th>1</th>\n",
       "      <td>2</td>\n",
       "      <td>10006</td>\n",
       "      <td>1459541791</td>\n",
       "      <td>L</td>\n",
       "      <td>MLO</td>\n",
       "      <td>61.0</td>\n",
       "      <td>0</td>\n",
       "      <td>0</td>\n",
       "      <td>0</td>\n",
       "      <td>NaN</td>\n",
       "      <td>0</td>\n",
       "      <td>NaN</td>\n",
       "      <td>29</td>\n",
       "      <td>False</td>\n",
       "    </tr>\n",
       "    <tr>\n",
       "      <th>2</th>\n",
       "      <td>2</td>\n",
       "      <td>10006</td>\n",
       "      <td>1864590858</td>\n",
       "      <td>R</td>\n",
       "      <td>MLO</td>\n",
       "      <td>61.0</td>\n",
       "      <td>0</td>\n",
       "      <td>0</td>\n",
       "      <td>0</td>\n",
       "      <td>NaN</td>\n",
       "      <td>0</td>\n",
       "      <td>NaN</td>\n",
       "      <td>29</td>\n",
       "      <td>False</td>\n",
       "    </tr>\n",
       "    <tr>\n",
       "      <th>3</th>\n",
       "      <td>2</td>\n",
       "      <td>10006</td>\n",
       "      <td>1874946579</td>\n",
       "      <td>R</td>\n",
       "      <td>CC</td>\n",
       "      <td>61.0</td>\n",
       "      <td>0</td>\n",
       "      <td>0</td>\n",
       "      <td>0</td>\n",
       "      <td>NaN</td>\n",
       "      <td>0</td>\n",
       "      <td>NaN</td>\n",
       "      <td>29</td>\n",
       "      <td>False</td>\n",
       "    </tr>\n",
       "    <tr>\n",
       "      <th>4</th>\n",
       "      <td>2</td>\n",
       "      <td>10011</td>\n",
       "      <td>220375232</td>\n",
       "      <td>L</td>\n",
       "      <td>CC</td>\n",
       "      <td>55.0</td>\n",
       "      <td>0</td>\n",
       "      <td>0</td>\n",
       "      <td>0</td>\n",
       "      <td>0.0</td>\n",
       "      <td>0</td>\n",
       "      <td>NaN</td>\n",
       "      <td>21</td>\n",
       "      <td>True</td>\n",
       "    </tr>\n",
       "  </tbody>\n",
       "</table>\n",
       "</div>"
      ],
      "text/plain": [
       "   site_id  patient_id    image_id laterality view   age  cancer  biopsy  \\\n",
       "0        2       10006   462822612          L   CC  61.0       0       0   \n",
       "1        2       10006  1459541791          L  MLO  61.0       0       0   \n",
       "2        2       10006  1864590858          R  MLO  61.0       0       0   \n",
       "3        2       10006  1874946579          R   CC  61.0       0       0   \n",
       "4        2       10011   220375232          L   CC  55.0       0       0   \n",
       "\n",
       "   invasive  BIRADS  implant density  machine_id  difficult_negative_case  \n",
       "0         0     NaN        0     NaN          29                    False  \n",
       "1         0     NaN        0     NaN          29                    False  \n",
       "2         0     NaN        0     NaN          29                    False  \n",
       "3         0     NaN        0     NaN          29                    False  \n",
       "4         0     0.0        0     NaN          21                     True  "
      ]
     },
     "execution_count": 2,
     "metadata": {},
     "output_type": "execute_result"
    }
   ],
   "source": [
    "df_train = pd.read_csv('/kaggle/input/rsna-breast-cancer-detection/train.csv')\n",
    "df_train.head()"
   ]
  },
  {
   "cell_type": "code",
   "execution_count": 3,
   "id": "cfe820f0",
   "metadata": {
    "execution": {
     "iopub.execute_input": "2023-03-29T09:50:38.122564Z",
     "iopub.status.busy": "2023-03-29T09:50:38.122178Z",
     "iopub.status.idle": "2023-03-29T09:50:38.147357Z",
     "shell.execute_reply": "2023-03-29T09:50:38.146089Z"
    },
    "papermill": {
     "duration": 0.03674,
     "end_time": "2023-03-29T09:50:38.150173",
     "exception": false,
     "start_time": "2023-03-29T09:50:38.113433",
     "status": "completed"
    },
    "tags": []
   },
   "outputs": [
    {
     "data": {
      "text/plain": [
       "0"
      ]
     },
     "execution_count": 3,
     "metadata": {},
     "output_type": "execute_result"
    }
   ],
   "source": [
    "df_train['age']= df_train['age'].\\\n",
    "fillna(df_train.groupby('cancer')['age'].transform('mean'))\n",
    "df_train['age'].isna().sum()"
   ]
  },
  {
   "cell_type": "code",
   "execution_count": 4,
   "id": "c33a105f",
   "metadata": {
    "execution": {
     "iopub.execute_input": "2023-03-29T09:50:38.168255Z",
     "iopub.status.busy": "2023-03-29T09:50:38.167636Z",
     "iopub.status.idle": "2023-03-29T09:50:38.238789Z",
     "shell.execute_reply": "2023-03-29T09:50:38.237648Z"
    },
    "papermill": {
     "duration": 0.083241,
     "end_time": "2023-03-29T09:50:38.241286",
     "exception": false,
     "start_time": "2023-03-29T09:50:38.158045",
     "status": "completed"
    },
    "tags": []
   },
   "outputs": [
    {
     "data": {
      "text/plain": [
       "'/kaggle/input/rsna-breast-cancer-detection/train_images/10006/462822612.dcm'"
      ]
     },
     "execution_count": 4,
     "metadata": {},
     "output_type": "execute_result"
    }
   ],
   "source": [
    "## VV: добавим в датасет пути к файлам\n",
    "IMG_PATH = '/kaggle/input/rsna-breast-cancer-detection/train_images/'\n",
    "df_train['image_path'] =  IMG_PATH + df_train.patient_id.map(str) + \\\n",
    "'/' + df_train.image_id.map(str) + '.dcm'\n",
    "\n",
    "df_train.iloc[0]['image_path']"
   ]
  },
  {
   "cell_type": "markdown",
   "id": "da606d4e",
   "metadata": {
    "papermill": {
     "duration": 0.007316,
     "end_time": "2023-03-29T09:50:38.256419",
     "exception": false,
     "start_time": "2023-03-29T09:50:38.249103",
     "status": "completed"
    },
    "tags": []
   },
   "source": [
    "Определим функцию предобработки изображений через cv2 и проверим ее работу."
   ]
  },
  {
   "cell_type": "markdown",
   "id": "47265136",
   "metadata": {
    "papermill": {
     "duration": 0.007241,
     "end_time": "2023-03-29T09:50:38.271406",
     "exception": false,
     "start_time": "2023-03-29T09:50:38.264165",
     "status": "completed"
    },
    "tags": []
   },
   "source": [
    "На Kaggle есть несколько ноутбуков для предобработки маммографических изображений. Один из них мы будем использовать. Он (1) сводит фотометрические интерпретации к одному виду, (2) выбирает информативные регионы, (3) приводит все изображения к одной размерности."
   ]
  },
  {
   "cell_type": "code",
   "execution_count": 5,
   "id": "89ac23c6",
   "metadata": {
    "execution": {
     "iopub.execute_input": "2023-03-29T09:50:38.290766Z",
     "iopub.status.busy": "2023-03-29T09:50:38.289613Z",
     "iopub.status.idle": "2023-03-29T09:50:38.306985Z",
     "shell.execute_reply": "2023-03-29T09:50:38.305997Z"
    },
    "papermill": {
     "duration": 0.029424,
     "end_time": "2023-03-29T09:50:38.309640",
     "exception": false,
     "start_time": "2023-03-29T09:50:38.280216",
     "status": "completed"
    },
    "tags": []
   },
   "outputs": [],
   "source": [
    "## VV: адаптировано из блокнота https://www.kaggle.com/code/fabiendaniel/dicom-cropped-resized-png-jpg\n",
    "def crop_image(path, show=True, width=224, height=224, resize = True, gabor = False): ## определим функцию\n",
    "    dicom = pydicom.dcmread(path)               ## прочитаем dicom            \n",
    "    later = dicom.ImageLaterality               ## правая или левая грудь\n",
    "    img = dicom.pixel_array                     ## прочитаем само изображение\n",
    "    if img.max() - img.min() != 0:\n",
    "        img = (img - img.min()) / (img.max() - img.min()) ## проведем нормализацию   \n",
    "    img *= 255                                  ## от диапазона 0-1 перейдем к 0-255\n",
    "    img = np.uint8(img)\n",
    "\n",
    "    if dicom.PhotometricInterpretation == \"MONOCHROME1\":\n",
    "        img = 1 - img ## VV: приведение к одному виду фотометрической интерпретации\n",
    "\n",
    "    bin_pixels = cv2.threshold(img, 20, 255, cv2.THRESH_BINARY)[1] ## проведем бинаризацию\n",
    "   \n",
    "    # определим контуры на изображении\n",
    "    contours, _ = cv2.findContours(bin_pixels.astype(np.uint8), \\\n",
    "                                   cv2.RETR_EXTERNAL, cv2.CHAIN_APPROX_NONE)\n",
    "    contour = max(contours, key=cv2.contourArea)\n",
    "\n",
    "    # Create a mask from the largest contour\n",
    "    mask = np.zeros(img.shape, np.uint8)\n",
    "    cv2.drawContours(mask, [contour], -1, 255, cv2.FILLED)\n",
    "   \n",
    "    # Use bitwise_and to get masked part of the original image\n",
    "    out = cv2.bitwise_and(img,mask)\n",
    "    \n",
    "    # get bounding box of contour\n",
    "    y1, y2 = np.min(contour[:, :, 1]), np.max(contour[:, :, 1])\n",
    "    x1, x2 = np.min(contour[:, :, 0]), np.max(contour[:, :, 0])\n",
    "    \n",
    "    x1 = int(0.99 * x1)\n",
    "    x2 = int(1.01 * x2)\n",
    "    y1 = int(0.99 * y1)\n",
    "    y2 = int(1.01 * y2)\n",
    "    cropped = out[y1:y2, x1:x2]\n",
    "    \n",
    "    if gabor:\n",
    "        ksize = 35  # The local area to evaluate\n",
    "        sigma = 3.0  # Larger Values produce more edges\n",
    "        lambd = 10.0\n",
    "        gamma = 0.5\n",
    "        psi = 0 \n",
    "        theta = 0.57 ## check EDA for details\n",
    "        kern = cv2.getGaborKernel((ksize, ksize), sigma, theta, lambd, gamma, psi, ktype=cv2.CV_64F)\n",
    "    \n",
    "    ## VV: let's resize\n",
    "    dim = (width, height)\n",
    "    resized = cv2.resize(cropped, dim,interpolation = cv2.INTER_AREA)\n",
    "    if later == 'R':\n",
    "        resized = cv2.flip(resized, 1) ## приведем все к одной латеральности\n",
    "    if show:\n",
    "        if resize:\n",
    "            plt.imshow(resized, cmap=\"turbo\") \n",
    "        else:\n",
    "            plt.imshow(cropped, cmap=\"turbo\")\n",
    "    if resize:\n",
    "        return resized ## изменим размер\n",
    "    else:\n",
    "        return cropped ## или просто остановимся на вырезанном фрагменте"
   ]
  },
  {
   "cell_type": "markdown",
   "id": "be6b51eb",
   "metadata": {
    "papermill": {
     "duration": 0.007448,
     "end_time": "2023-03-29T09:50:38.324848",
     "exception": false,
     "start_time": "2023-03-29T09:50:38.317400",
     "status": "completed"
    },
    "tags": []
   },
   "source": [
    "Посмотрим, как выглядит результат работы функции:"
   ]
  },
  {
   "cell_type": "code",
   "execution_count": 6,
   "id": "1ef0a10a",
   "metadata": {
    "execution": {
     "iopub.execute_input": "2023-03-29T09:50:38.342021Z",
     "iopub.status.busy": "2023-03-29T09:50:38.341438Z",
     "iopub.status.idle": "2023-03-29T09:50:42.379070Z",
     "shell.execute_reply": "2023-03-29T09:50:42.378076Z"
    },
    "papermill": {
     "duration": 4.049741,
     "end_time": "2023-03-29T09:50:42.382163",
     "exception": false,
     "start_time": "2023-03-29T09:50:38.332422",
     "status": "completed"
    },
    "tags": []
   },
   "outputs": [
    {
     "data": {
      "text/plain": [
       "<matplotlib.image.AxesImage at 0x7f2b71b05050>"
      ]
     },
     "execution_count": 6,
     "metadata": {},
     "output_type": "execute_result"
    },
    {
     "data": {
      "image/png": "[encoded data removed]",
      "text/plain": [
       "<Figure size 432x288 with 1 Axes>"
      ]
     },
     "metadata": {
      "needs_background": "light"
     },
     "output_type": "display_data"
    }
   ],
   "source": [
    "img_index = 0\n",
    "img_file = pydicom.dcmread(df_train['image_path'].iloc[img_index])\n",
    "img = img_file.pixel_array\n",
    "img_crop = crop_image(df_train['image_path'].iloc[img_index])\n",
    "\n",
    "plt.imshow(img_crop)"
   ]
  },
  {
   "cell_type": "code",
   "execution_count": 7,
   "id": "ac4d3cb2",
   "metadata": {
    "execution": {
     "iopub.execute_input": "2023-03-29T09:50:42.404167Z",
     "iopub.status.busy": "2023-03-29T09:50:42.403752Z",
     "iopub.status.idle": "2023-03-29T09:50:42.410480Z",
     "shell.execute_reply": "2023-03-29T09:50:42.408920Z"
    },
    "papermill": {
     "duration": 0.020303,
     "end_time": "2023-03-29T09:50:42.413179",
     "exception": false,
     "start_time": "2023-03-29T09:50:42.392876",
     "status": "completed"
    },
    "tags": []
   },
   "outputs": [],
   "source": [
    "import os\n",
    "\n",
    "DATASET_NAME = f'RSNA-cropped-png-train'\n",
    "SAVE_FOLDER = f\"/kaggle/working/{DATASET_NAME}\"\n",
    "EXTENSION = \"png\"\n",
    "os.makedirs(SAVE_FOLDER, exist_ok=True)\n",
    "\n",
    "DEBUG_MODE = False"
   ]
  },
  {
   "cell_type": "code",
   "execution_count": 8,
   "id": "3c431a82",
   "metadata": {
    "execution": {
     "iopub.execute_input": "2023-03-29T09:50:42.433097Z",
     "iopub.status.busy": "2023-03-29T09:50:42.432655Z",
     "iopub.status.idle": "2023-03-29T09:50:42.473720Z",
     "shell.execute_reply": "2023-03-29T09:50:42.472442Z"
    },
    "papermill": {
     "duration": 0.054684,
     "end_time": "2023-03-29T09:50:42.476958",
     "exception": false,
     "start_time": "2023-03-29T09:50:42.422274",
     "status": "completed"
    },
    "tags": []
   },
   "outputs": [
    {
     "name": "stdout",
     "output_type": "stream",
     "text": [
      "(3793, 15)\n"
     ]
    }
   ],
   "source": [
    "import random\n",
    "random.seed(10)\n",
    "#\n",
    "n_cases = df_train[df_train.cancer == 1].image_id.count()\n",
    "## выберем онко случаи\n",
    "df_train_canc = df_train[df_train.cancer == 1]\n",
    "## выберем здоровые случаи в количестве равном онко\n",
    "df_train_healthy = df_train[(df_train.cancer == 0) & (df_train.implant == 0)]\n",
    "df_train_healthy = df_train_healthy.\\\n",
    "iloc[random.sample(range(0, len(df_train_healthy) - 1), n_cases)]\n",
    "## добавим пациенток с имплантами\n",
    "df_train_implant = df_train[df_train.implant == 1]\n",
    "\n",
    "df_train_cut = pd.concat([df_train_canc,\n",
    "                          df_train_healthy,\n",
    "                         df_train_implant], ignore_index = True)\n",
    "print(df_train_cut.shape)\n",
    "\n",
    "## Временный датасет для отладки\n",
    "df_train_cut_cut = df_train_cut.iloc[random.sample(range(0, len(df_train_cut) - 1), 100)]\n",
    "df_train_cut_cut.head()\n",
    "\n",
    "if DEBUG_MODE:\n",
    "    df_proc = df_train_cut_cut\n",
    "else:\n",
    "    df_proc = df_train_cut"
   ]
  },
  {
   "cell_type": "code",
   "execution_count": 9,
   "id": "08f8c32a",
   "metadata": {
    "execution": {
     "iopub.execute_input": "2023-03-29T09:50:42.498139Z",
     "iopub.status.busy": "2023-03-29T09:50:42.497670Z",
     "iopub.status.idle": "2023-03-29T09:50:42.504069Z",
     "shell.execute_reply": "2023-03-29T09:50:42.502761Z"
    },
    "papermill": {
     "duration": 0.019871,
     "end_time": "2023-03-29T09:50:42.506485",
     "exception": false,
     "start_time": "2023-03-29T09:50:42.486614",
     "status": "completed"
    },
    "tags": []
   },
   "outputs": [],
   "source": [
    "def process(f,save_folder=\"\", extension=\"png\"):\n",
    "    patient = f.split('/')[-2]\n",
    "    image = f.split('/')[-1][:-4]\n",
    "    img = crop_image(f)\n",
    "    cv2.imwrite(f\"{SAVE_FOLDER}/{patient}_{image}.{extension}\", img)"
   ]
  },
  {
   "cell_type": "code",
   "execution_count": 10,
   "id": "050661f3",
   "metadata": {
    "execution": {
     "iopub.execute_input": "2023-03-29T09:50:42.526290Z",
     "iopub.status.busy": "2023-03-29T09:50:42.525892Z",
     "iopub.status.idle": "2023-03-29T10:13:21.895271Z",
     "shell.execute_reply": "2023-03-29T10:13:21.893947Z"
    },
    "papermill": {
     "duration": 1359.382694,
     "end_time": "2023-03-29T10:13:21.898085",
     "exception": false,
     "start_time": "2023-03-29T09:50:42.515391",
     "status": "completed"
    },
    "tags": []
   },
   "outputs": [
    {
     "data": {
      "application/vnd.jupyter.widget-view+json": {
       "model_id": "dd4f503e44c84d26a1b9785254ec8fa2",
       "version_major": 2,
       "version_minor": 0
      },
      "text/plain": [
       "  0%|          | 0/3793 [00:00<?, ?it/s]"
      ]
     },
     "metadata": {},
     "output_type": "display_data"
    }
   ],
   "source": [
    "## VV: cuda https://thedatafrog.com/en/articles/boost-python-gpu/\n",
    "\n",
    "paths = df_proc['image_path'] #df_train_cut_cut - для отладки\n",
    "_ = Parallel(n_jobs=8)(\n",
    "    delayed(process)(uid, save_folder=SAVE_FOLDER, extension=EXTENSION)\n",
    "    for uid in tqdm(paths)\n",
    ")"
   ]
  },
  {
   "cell_type": "code",
   "execution_count": 11,
   "id": "57985034",
   "metadata": {
    "execution": {
     "iopub.execute_input": "2023-03-29T10:13:21.919766Z",
     "iopub.status.busy": "2023-03-29T10:13:21.918471Z",
     "iopub.status.idle": "2023-03-29T10:36:18.488114Z",
     "shell.execute_reply": "2023-03-29T10:36:18.487013Z"
    },
    "papermill": {
     "duration": 1376.583464,
     "end_time": "2023-03-29T10:36:18.491080",
     "exception": false,
     "start_time": "2023-03-29T10:13:21.907616",
     "status": "completed"
    },
    "tags": []
   },
   "outputs": [
    {
     "data": {
      "application/vnd.jupyter.widget-view+json": {
       "model_id": "462e455d71fe414eb008dd0d991f1e0e",
       "version_major": 2,
       "version_minor": 0
      },
      "text/plain": [
       "  0%|          | 0/3793 [00:00<?, ?it/s]"
      ]
     },
     "metadata": {},
     "output_type": "display_data"
    }
   ],
   "source": [
    "os.makedirs(SAVE_FOLDER +'_gabor', exist_ok=True)\n",
    "\n",
    "def process2(f,save_folder=\"\", extension=\"png\"):\n",
    "    patient = f.split('/')[-2]\n",
    "    image = f.split('/')[-1][:-4]\n",
    "    img = crop_image(f, gabor=True)\n",
    "    cv2.imwrite(f\"{SAVE_FOLDER}_gabor/{patient}_{image}.{extension}\", img)\n",
    "    \n",
    "_ = Parallel(n_jobs=8)(\n",
    "    delayed(process2)(uid, save_folder=(SAVE_FOLDER +'_gabor'), extension=EXTENSION)\n",
    "    for uid in tqdm(paths)\n",
    ")"
   ]
  },
  {
   "cell_type": "markdown",
   "id": "d67ded20",
   "metadata": {
    "papermill": {
     "duration": 0.008938,
     "end_time": "2023-03-29T10:36:18.852272",
     "exception": false,
     "start_time": "2023-03-29T10:36:18.843334",
     "status": "completed"
    },
    "tags": []
   },
   "source": [
    "Пропишем путь к обрезанным фигурам в датасет"
   ]
  },
  {
   "cell_type": "code",
   "execution_count": 12,
   "id": "c9b070be",
   "metadata": {
    "execution": {
     "iopub.execute_input": "2023-03-29T10:36:18.512891Z",
     "iopub.status.busy": "2023-03-29T10:36:18.512364Z",
     "iopub.status.idle": "2023-03-29T10:36:18.623787Z",
     "shell.execute_reply": "2023-03-29T10:36:18.622805Z"
    },
    "papermill": {
     "duration": 0.125378,
     "end_time": "2023-03-29T10:36:18.626685",
     "exception": false,
     "start_time": "2023-03-29T10:36:18.501307",
     "status": "completed"
    },
    "tags": []
   },
   "outputs": [
    {
     "data": {
      "text/plain": [
       "['/kaggle/working/RSNA-cropped-png-train/df_train.csv']"
      ]
     },
     "execution_count": 12,
     "metadata": {},
     "output_type": "execute_result"
    }
   ],
   "source": [
    "df_proc['new_image_path'] = SAVE_FOLDER + '/' +\\\n",
    "df_proc.patient_id.map(str) + '_' +\\\n",
    "df_proc.image_id.map(str) + '.' +\\\n",
    "EXTENSION # SAVE_FOLDER\n",
    "df_proc.to_csv(SAVE_FOLDER + '/' + 'df_train.csv',index=False)\n",
    "df_proc.to_csv(SAVE_FOLDER +'_gabor' + '/' + 'df_train.csv',index=False)\n",
    "glob.glob(SAVE_FOLDER + '/*.csv')"
   ]
  },
  {
   "cell_type": "markdown",
   "id": "975216e2",
   "metadata": {
    "papermill": {
     "duration": 0.009015,
     "end_time": "2023-03-29T10:36:18.815716",
     "exception": false,
     "start_time": "2023-03-29T10:36:18.806701",
     "status": "completed"
    },
    "tags": []
   },
   "source": [
    "Я думаю обойтись частью датасета, чтобы сократить время работы. Так как изначальный датасет несбалансирован, то можно сделать что-то вроде case-control study - выбрать равное количество случаев с онко и без. Думаю,насчет того, стоит ли учитывать импланты отдельно."
   ]
  }
 ],
 "metadata": {
  "kernelspec": {
   "display_name": "Python 3 (ipykernel)",
   "language": "python",
   "name": "python3"
  },
  "language_info": {
   "codemirror_mode": {
    "name": "ipython",
    "version": 3
   },
   "file_extension": ".py",
   "mimetype": "text/x-python",
   "name": "python",
   "nbconvert_exporter": "python",
   "pygments_lexer": "ipython3",
   "version": "3.9.13"
  },
  "papermill": {
   "default_parameters": {},
   "duration": 2770.338277,
   "end_time": "2023-03-29T10:36:21.519168",
   "environment_variables": {},
   "exception": null,
   "input_path": "__notebook__.ipynb",
   "output_path": "__notebook__.ipynb",
   "parameters": {},
   "start_time": "2023-03-29T09:50:11.180891",
   "version": "2.3.4"
  },
  "widgets": {
   "application/vnd.jupyter.widget-state+json": {
    "state": {
     "1007ba9190384fc082f564717f0138cb": {
      "model_module": "@jupyter-widgets/base",
      "model_module_version": "1.2.0",
      "model_name": "LayoutModel",
      "state": {
       "_model_module": "@jupyter-widgets/base",
       "_model_module_version": "1.2.0",
       "_model_name": "LayoutModel",
       "_view_count": null,
       "_view_module": "@jupyter-widgets/base",
       "_view_module_version": "1.2.0",
       "_view_name": "LayoutView",
       "align_content": null,
       "align_items": null,
       "align_self": null,
       "border": null,
       "bottom": null,
       "display": null,
       "flex": null,
       "flex_flow": null,
       "grid_area": null,
       "grid_auto_columns": null,
       "grid_auto_flow": null,
       "grid_auto_rows": null,
       "grid_column": null,
       "grid_gap": null,
       "grid_row": null,
       "grid_template_areas": null,
       "grid_template_columns": null,
       "grid_template_rows": null,
       "height": null,
       "justify_content": null,
       "justify_items": null,
       "left": null,
       "margin": null,
       "max_height": null,
       "max_width": null,
       "min_height": null,
       "min_width": null,
       "object_fit": null,
       "object_position": null,
       "order": null,
       "overflow": null,
       "overflow_x": null,
       "overflow_y": null,
       "padding": null,
       "right": null,
       "top": null,
       "visibility": null,
       "width": null
      }
     },
     "14fb66dc145c44999bcee730b1bb564d": {
      "model_module": "@jupyter-widgets/controls",
      "model_module_version": "1.5.0",
      "model_name": "DescriptionStyleModel",
      "state": {
       "_model_module": "@jupyter-widgets/controls",
       "_model_module_version": "1.5.0",
       "_model_name": "DescriptionStyleModel",
       "_view_count": null,
       "_view_module": "@jupyter-widgets/base",
       "_view_module_version": "1.2.0",
       "_view_name": "StyleView",
       "description_width": ""
      }
     },
     "3c19379d9e794a5f93e446142c440512": {
      "model_module": "@jupyter-widgets/base",
      "model_module_version": "1.2.0",
      "model_name": "LayoutModel",
      "state": {
       "_model_module": "@jupyter-widgets/base",
       "_model_module_version": "1.2.0",
       "_model_name": "LayoutModel",
       "_view_count": null,
       "_view_module": "@jupyter-widgets/base",
       "_view_module_version": "1.2.0",
       "_view_name": "LayoutView",
       "align_content": null,
       "align_items": null,
       "align_self": null,
       "border": null,
       "bottom": null,
       "display": null,
       "flex": null,
       "flex_flow": null,
       "grid_area": null,
       "grid_auto_columns": null,
       "grid_auto_flow": null,
       "grid_auto_rows": null,
       "grid_column": null,
       "grid_gap": null,
       "grid_row": null,
       "grid_template_areas": null,
       "grid_template_columns": null,
       "grid_template_rows": null,
       "height": null,
       "justify_content": null,
       "justify_items": null,
       "left": null,
       "margin": null,
       "max_height": null,
       "max_width": null,
       "min_height": null,
       "min_width": null,
       "object_fit": null,
       "object_position": null,
       "order": null,
       "overflow": null,
       "overflow_x": null,
       "overflow_y": null,
       "padding": null,
       "right": null,
       "top": null,
       "visibility": null,
       "width": null
      }
     },
     "41e27cf65bce4d779c6ce3d2fa71aeac": {
      "model_module": "@jupyter-widgets/controls",
      "model_module_version": "1.5.0",
      "model_name": "HTMLModel",
      "state": {
       "_dom_classes": [],
       "_model_module": "@jupyter-widgets/controls",
       "_model_module_version": "1.5.0",
       "_model_name": "HTMLModel",
       "_view_count": null,
       "_view_module": "@jupyter-widgets/controls",
       "_view_module_version": "1.5.0",
       "_view_name": "HTMLView",
       "description": "",
       "description_tooltip": null,
       "layout": "IPY_MODEL_78b7d1cad7454d4790defcb4dec1d605",
       "placeholder": "​",
       "style": "IPY_MODEL_14fb66dc145c44999bcee730b1bb564d",
       "value": " 3793/3793 [22:53&lt;00:00,  5.32it/s]"
      }
     },
     "462e455d71fe414eb008dd0d991f1e0e": {
      "model_module": "@jupyter-widgets/controls",
      "model_module_version": "1.5.0",
      "model_name": "HBoxModel",
      "state": {
       "_dom_classes": [],
       "_model_module": "@jupyter-widgets/controls",
       "_model_module_version": "1.5.0",
       "_model_name": "HBoxModel",
       "_view_count": null,
       "_view_module": "@jupyter-widgets/controls",
       "_view_module_version": "1.5.0",
       "_view_name": "HBoxView",
       "box_style": "",
       "children": [
        "IPY_MODEL_be021e0b15694b84ad70517ea1d723d9",
        "IPY_MODEL_eef1e5ed1b5f4cce919b9ab83cd4cfb1",
        "IPY_MODEL_41e27cf65bce4d779c6ce3d2fa71aeac"
       ],
       "layout": "IPY_MODEL_fb7ddd1cf6194f50a5071b3baf36dc6b"
      }
     },
     "62eaab388ba74d379ca189c91a20c27c": {
      "model_module": "@jupyter-widgets/controls",
      "model_module_version": "1.5.0",
      "model_name": "FloatProgressModel",
      "state": {
       "_dom_classes": [],
       "_model_module": "@jupyter-widgets/controls",
       "_model_module_version": "1.5.0",
       "_model_name": "FloatProgressModel",
       "_view_count": null,
       "_view_module": "@jupyter-widgets/controls",
       "_view_module_version": "1.5.0",
       "_view_name": "ProgressView",
       "bar_style": "success",
       "description": "",
       "description_tooltip": null,
       "layout": "IPY_MODEL_1007ba9190384fc082f564717f0138cb",
       "max": 3793,
       "min": 0,
       "orientation": "horizontal",
       "style": "IPY_MODEL_76e6542218104aebae8c0abd03d633aa",
       "value": 3793
      }
     },
     "71fb328040a5445c8e52169db06bb518": {
      "model_module": "@jupyter-widgets/base",
      "model_module_version": "1.2.0",
      "model_name": "LayoutModel",
      "state": {
       "_model_module": "@jupyter-widgets/base",
       "_model_module_version": "1.2.0",
       "_model_name": "LayoutModel",
       "_view_count": null,
       "_view_module": "@jupyter-widgets/base",
       "_view_module_version": "1.2.0",
       "_view_name": "LayoutView",
       "align_content": null,
       "align_items": null,
       "align_self": null,
       "border": null,
       "bottom": null,
       "display": null,
       "flex": null,
       "flex_flow": null,
       "grid_area": null,
       "grid_auto_columns": null,
       "grid_auto_flow": null,
       "grid_auto_rows": null,
       "grid_column": null,
       "grid_gap": null,
       "grid_row": null,
       "grid_template_areas": null,
       "grid_template_columns": null,
       "grid_template_rows": null,
       "height": null,
       "justify_content": null,
       "justify_items": null,
       "left": null,
       "margin": null,
       "max_height": null,
       "max_width": null,
       "min_height": null,
       "min_width": null,
       "object_fit": null,
       "object_position": null,
       "order": null,
       "overflow": null,
       "overflow_x": null,
       "overflow_y": null,
       "padding": null,
       "right": null,
       "top": null,
       "visibility": null,
       "width": null
      }
     },
     "76e6542218104aebae8c0abd03d633aa": {
      "model_module": "@jupyter-widgets/controls",
      "model_module_version": "1.5.0",
      "model_name": "ProgressStyleModel",
      "state": {
       "_model_module": "@jupyter-widgets/controls",
       "_model_module_version": "1.5.0",
       "_model_name": "ProgressStyleModel",
       "_view_count": null,
       "_view_module": "@jupyter-widgets/base",
       "_view_module_version": "1.2.0",
       "_view_name": "StyleView",
       "bar_color": null,
       "description_width": ""
      }
     },
     "78b7d1cad7454d4790defcb4dec1d605": {
      "model_module": "@jupyter-widgets/base",
      "model_module_version": "1.2.0",
      "model_name": "LayoutModel",
      "state": {
       "_model_module": "@jupyter-widgets/base",
       "_model_module_version": "1.2.0",
       "_model_name": "LayoutModel",
       "_view_count": null,
       "_view_module": "@jupyter-widgets/base",
       "_view_module_version": "1.2.0",
       "_view_name": "LayoutView",
       "align_content": null,
       "align_items": null,
       "align_self": null,
       "border": null,
       "bottom": null,
       "display": null,
       "flex": null,
       "flex_flow": null,
       "grid_area": null,
       "grid_auto_columns": null,
       "grid_auto_flow": null,
       "grid_auto_rows": null,
       "grid_column": null,
       "grid_gap": null,
       "grid_row": null,
       "grid_template_areas": null,
       "grid_template_columns": null,
       "grid_template_rows": null,
       "height": null,
       "justify_content": null,
       "justify_items": null,
       "left": null,
       "margin": null,
       "max_height": null,
       "max_width": null,
       "min_height": null,
       "min_width": null,
       "object_fit": null,
       "object_position": null,
       "order": null,
       "overflow": null,
       "overflow_x": null,
       "overflow_y": null,
       "padding": null,
       "right": null,
       "top": null,
       "visibility": null,
       "width": null
      }
     },
     "7c697936d7f1445a9df79662a04612bd": {
      "model_module": "@jupyter-widgets/controls",
      "model_module_version": "1.5.0",
      "model_name": "HTMLModel",
      "state": {
       "_dom_classes": [],
       "_model_module": "@jupyter-widgets/controls",
       "_model_module_version": "1.5.0",
       "_model_name": "HTMLModel",
       "_view_count": null,
       "_view_module": "@jupyter-widgets/controls",
       "_view_module_version": "1.5.0",
       "_view_name": "HTMLView",
       "description": "",
       "description_tooltip": null,
       "layout": "IPY_MODEL_71fb328040a5445c8e52169db06bb518",
       "placeholder": "​",
       "style": "IPY_MODEL_7e9950d7eaa2406ea4c8d3a5686d7bc7",
       "value": " 3793/3793 [22:36&lt;00:00,  5.39it/s]"
      }
     },
     "7c6b04be319742bfbc007d6b6823d39f": {
      "model_module": "@jupyter-widgets/controls",
      "model_module_version": "1.5.0",
      "model_name": "HTMLModel",
      "state": {
       "_dom_classes": [],
       "_model_module": "@jupyter-widgets/controls",
       "_model_module_version": "1.5.0",
       "_model_name": "HTMLModel",
       "_view_count": null,
       "_view_module": "@jupyter-widgets/controls",
       "_view_module_version": "1.5.0",
       "_view_name": "HTMLView",
       "description": "",
       "description_tooltip": null,
       "layout": "IPY_MODEL_3c19379d9e794a5f93e446142c440512",
       "placeholder": "​",
       "style": "IPY_MODEL_8ad44406e9784d5785ef3008c6dc58ec",
       "value": "100%"
      }
     },
     "7e9950d7eaa2406ea4c8d3a5686d7bc7": {
      "model_module": "@jupyter-widgets/controls",
      "model_module_version": "1.5.0",
      "model_name": "DescriptionStyleModel",
      "state": {
       "_model_module": "@jupyter-widgets/controls",
       "_model_module_version": "1.5.0",
       "_model_name": "DescriptionStyleModel",
       "_view_count": null,
       "_view_module": "@jupyter-widgets/base",
       "_view_module_version": "1.2.0",
       "_view_name": "StyleView",
       "description_width": ""
      }
     },
     "8ad44406e9784d5785ef3008c6dc58ec": {
      "model_module": "@jupyter-widgets/controls",
      "model_module_version": "1.5.0",
      "model_name": "DescriptionStyleModel",
      "state": {
       "_model_module": "@jupyter-widgets/controls",
       "_model_module_version": "1.5.0",
       "_model_name": "DescriptionStyleModel",
       "_view_count": null,
       "_view_module": "@jupyter-widgets/base",
       "_view_module_version": "1.2.0",
       "_view_name": "StyleView",
       "description_width": ""
      }
     },
     "a84d5512413442a4a52fa898e0e3a529": {
      "model_module": "@jupyter-widgets/base",
      "model_module_version": "1.2.0",
      "model_name": "LayoutModel",
      "state": {
       "_model_module": "@jupyter-widgets/base",
       "_model_module_version": "1.2.0",
       "_model_name": "LayoutModel",
       "_view_count": null,
       "_view_module": "@jupyter-widgets/base",
       "_view_module_version": "1.2.0",
       "_view_name": "LayoutView",
       "align_content": null,
       "align_items": null,
       "align_self": null,
       "border": null,
       "bottom": null,
       "display": null,
       "flex": null,
       "flex_flow": null,
       "grid_area": null,
       "grid_auto_columns": null,
       "grid_auto_flow": null,
       "grid_auto_rows": null,
       "grid_column": null,
       "grid_gap": null,
       "grid_row": null,
       "grid_template_areas": null,
       "grid_template_columns": null,
       "grid_template_rows": null,
       "height": null,
       "justify_content": null,
       "justify_items": null,
       "left": null,
       "margin": null,
       "max_height": null,
       "max_width": null,
       "min_height": null,
       "min_width": null,
       "object_fit": null,
       "object_position": null,
       "order": null,
       "overflow": null,
       "overflow_x": null,
       "overflow_y": null,
       "padding": null,
       "right": null,
       "top": null,
       "visibility": null,
       "width": null
      }
     },
     "ab4c4e0a430f46fc9e6dbdce0183c745": {
      "model_module": "@jupyter-widgets/base",
      "model_module_version": "1.2.0",
      "model_name": "LayoutModel",
      "state": {
       "_model_module": "@jupyter-widgets/base",
       "_model_module_version": "1.2.0",
       "_model_name": "LayoutModel",
       "_view_count": null,
       "_view_module": "@jupyter-widgets/base",
       "_view_module_version": "1.2.0",
       "_view_name": "LayoutView",
       "align_content": null,
       "align_items": null,
       "align_self": null,
       "border": null,
       "bottom": null,
       "display": null,
       "flex": null,
       "flex_flow": null,
       "grid_area": null,
       "grid_auto_columns": null,
       "grid_auto_flow": null,
       "grid_auto_rows": null,
       "grid_column": null,
       "grid_gap": null,
       "grid_row": null,
       "grid_template_areas": null,
       "grid_template_columns": null,
       "grid_template_rows": null,
       "height": null,
       "justify_content": null,
       "justify_items": null,
       "left": null,
       "margin": null,
       "max_height": null,
       "max_width": null,
       "min_height": null,
       "min_width": null,
       "object_fit": null,
       "object_position": null,
       "order": null,
       "overflow": null,
       "overflow_x": null,
       "overflow_y": null,
       "padding": null,
       "right": null,
       "top": null,
       "visibility": null,
       "width": null
      }
     },
     "be021e0b15694b84ad70517ea1d723d9": {
      "model_module": "@jupyter-widgets/controls",
      "model_module_version": "1.5.0",
      "model_name": "HTMLModel",
      "state": {
       "_dom_classes": [],
       "_model_module": "@jupyter-widgets/controls",
       "_model_module_version": "1.5.0",
       "_model_name": "HTMLModel",
       "_view_count": null,
       "_view_module": "@jupyter-widgets/controls",
       "_view_module_version": "1.5.0",
       "_view_name": "HTMLView",
       "description": "",
       "description_tooltip": null,
       "layout": "IPY_MODEL_ab4c4e0a430f46fc9e6dbdce0183c745",
       "placeholder": "​",
       "style": "IPY_MODEL_ff12706ad2334d088e2935379e885bb9",
       "value": "100%"
      }
     },
     "bf44f021d3c4460582f4a383281eba6b": {
      "model_module": "@jupyter-widgets/base",
      "model_module_version": "1.2.0",
      "model_name": "LayoutModel",
      "state": {
       "_model_module": "@jupyter-widgets/base",
       "_model_module_version": "1.2.0",
       "_model_name": "LayoutModel",
       "_view_count": null,
       "_view_module": "@jupyter-widgets/base",
       "_view_module_version": "1.2.0",
       "_view_name": "LayoutView",
       "align_content": null,
       "align_items": null,
       "align_self": null,
       "border": null,
       "bottom": null,
       "display": null,
       "flex": null,
       "flex_flow": null,
       "grid_area": null,
       "grid_auto_columns": null,
       "grid_auto_flow": null,
       "grid_auto_rows": null,
       "grid_column": null,
       "grid_gap": null,
       "grid_row": null,
       "grid_template_areas": null,
       "grid_template_columns": null,
       "grid_template_rows": null,
       "height": null,
       "justify_content": null,
       "justify_items": null,
       "left": null,
       "margin": null,
       "max_height": null,
       "max_width": null,
       "min_height": null,
       "min_width": null,
       "object_fit": null,
       "object_position": null,
       "order": null,
       "overflow": null,
       "overflow_x": null,
       "overflow_y": null,
       "padding": null,
       "right": null,
       "top": null,
       "visibility": null,
       "width": null
      }
     },
     "dd4f503e44c84d26a1b9785254ec8fa2": {
      "model_module": "@jupyter-widgets/controls",
      "model_module_version": "1.5.0",
      "model_name": "HBoxModel",
      "state": {
       "_dom_classes": [],
       "_model_module": "@jupyter-widgets/controls",
       "_model_module_version": "1.5.0",
       "_model_name": "HBoxModel",
       "_view_count": null,
       "_view_module": "@jupyter-widgets/controls",
       "_view_module_version": "1.5.0",
       "_view_name": "HBoxView",
       "box_style": "",
       "children": [
        "IPY_MODEL_7c6b04be319742bfbc007d6b6823d39f",
        "IPY_MODEL_62eaab388ba74d379ca189c91a20c27c",
        "IPY_MODEL_7c697936d7f1445a9df79662a04612bd"
       ],
       "layout": "IPY_MODEL_a84d5512413442a4a52fa898e0e3a529"
      }
     },
     "eef1e5ed1b5f4cce919b9ab83cd4cfb1": {
      "model_module": "@jupyter-widgets/controls",
      "model_module_version": "1.5.0",
      "model_name": "FloatProgressModel",
      "state": {
       "_dom_classes": [],
       "_model_module": "@jupyter-widgets/controls",
       "_model_module_version": "1.5.0",
       "_model_name": "FloatProgressModel",
       "_view_count": null,
       "_view_module": "@jupyter-widgets/controls",
       "_view_module_version": "1.5.0",
       "_view_name": "ProgressView",
       "bar_style": "success",
       "description": "",
       "description_tooltip": null,
       "layout": "IPY_MODEL_bf44f021d3c4460582f4a383281eba6b",
       "max": 3793,
       "min": 0,
       "orientation": "horizontal",
       "style": "IPY_MODEL_f52f6784dfab43dd937e33820e10f470",
       "value": 3793
      }
     },
     "f52f6784dfab43dd937e33820e10f470": {
      "model_module": "@jupyter-widgets/controls",
      "model_module_version": "1.5.0",
      "model_name": "ProgressStyleModel",
      "state": {
       "_model_module": "@jupyter-widgets/controls",
       "_model_module_version": "1.5.0",
       "_model_name": "ProgressStyleModel",
       "_view_count": null,
       "_view_module": "@jupyter-widgets/base",
       "_view_module_version": "1.2.0",
       "_view_name": "StyleView",
       "bar_color": null,
       "description_width": ""
      }
     },
     "fb7ddd1cf6194f50a5071b3baf36dc6b": {
      "model_module": "@jupyter-widgets/base",
      "model_module_version": "1.2.0",
      "model_name": "LayoutModel",
      "state": {
       "_model_module": "@jupyter-widgets/base",
       "_model_module_version": "1.2.0",
       "_model_name": "LayoutModel",
       "_view_count": null,
       "_view_module": "@jupyter-widgets/base",
       "_view_module_version": "1.2.0",
       "_view_name": "LayoutView",
       "align_content": null,
       "align_items": null,
       "align_self": null,
       "border": null,
       "bottom": null,
       "display": null,
       "flex": null,
       "flex_flow": null,
       "grid_area": null,
       "grid_auto_columns": null,
       "grid_auto_flow": null,
       "grid_auto_rows": null,
       "grid_column": null,
       "grid_gap": null,
       "grid_row": null,
       "grid_template_areas": null,
       "grid_template_columns": null,
       "grid_template_rows": null,
       "height": null,
       "justify_content": null,
       "justify_items": null,
       "left": null,
       "margin": null,
       "max_height": null,
       "max_width": null,
       "min_height": null,
       "min_width": null,
       "object_fit": null,
       "object_position": null,
       "order": null,
       "overflow": null,
       "overflow_x": null,
       "overflow_y": null,
       "padding": null,
       "right": null,
       "top": null,
       "visibility": null,
       "width": null
      }
     },
     "ff12706ad2334d088e2935379e885bb9": {
      "model_module": "@jupyter-widgets/controls",
      "model_module_version": "1.5.0",
      "model_name": "DescriptionStyleModel",
      "state": {
       "_model_module": "@jupyter-widgets/controls",
       "_model_module_version": "1.5.0",
       "_model_name": "DescriptionStyleModel",
       "_view_count": null,
       "_view_module": "@jupyter-widgets/base",
       "_view_module_version": "1.2.0",
       "_view_name": "StyleView",
       "description_width": ""
      }
     }
    },
    "version_major": 2,
    "version_minor": 0
   }
  }
 },
 "nbformat": 4,
 "nbformat_minor": 5
}
