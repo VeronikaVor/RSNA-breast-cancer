{
 "cells": [
  {
   "cell_type": "markdown",
   "metadata": {},
   "source": [
    "# **Шаг 4:** Нейросети"
   ]
  },
  {
   "cell_type": "markdown",
   "metadata": {},
   "source": [
    "## **4.1** Тренировка предобученных моделей на RSNA датасете"
   ]
  },
  {
   "cell_type": "markdown",
   "metadata": {},
   "source": [
    "Импортируем библиотеки:"
   ]
  },
  {
   "cell_type": "code",
   "execution_count": 3,
   "metadata": {
    "execution": {
     "iopub.execute_input": "2023-04-01T16:08:51.698188Z",
     "iopub.status.busy": "2023-04-01T16:08:51.697837Z",
     "iopub.status.idle": "2023-04-01T16:08:51.703035Z",
     "shell.execute_reply": "2023-04-01T16:08:51.701625Z",
     "shell.execute_reply.started": "2023-04-01T16:08:51.698158Z"
    }
   },
   "outputs": [],
   "source": [
    "import pandas as pd\n",
    "import numpy as np"
   ]
  },
  {
   "cell_type": "code",
   "execution_count": 4,
   "metadata": {
    "execution": {
     "iopub.execute_input": "2023-04-01T16:08:51.710268Z",
     "iopub.status.busy": "2023-04-01T16:08:51.709833Z",
     "iopub.status.idle": "2023-04-01T16:08:53.323650Z",
     "shell.execute_reply": "2023-04-01T16:08:53.322453Z",
     "shell.execute_reply.started": "2023-04-01T16:08:51.710241Z"
    },
    "papermill": {
     "duration": 3.186065,
     "end_time": "2023-02-13T04:37:45.124686",
     "exception": false,
     "start_time": "2023-02-13T04:37:41.938621",
     "status": "completed"
    },
    "tags": []
   },
   "outputs": [],
   "source": [
    "from PIL import Image\n",
    "from tqdm.notebook import tqdm\n",
    "## VV: библиотеки для анализа изображений и построения нейронной сети и подгрузки данных\n",
    "import random\n",
    "import os\n",
    "import torch\n",
    "import torch.nn as nn\n",
    "import torch.nn.functional as F\n",
    "import torch.optim as optim\n",
    "import torchvision.transforms as transforms\n",
    "import torchvision.models as models\n",
    "from torch.utils.data import Dataset, DataLoader\n",
    "\n",
    "try:\n",
    "    from torchinfo import summary\n",
    "except:\n",
    "    print(\"[INFO] Couldn't find torchinfo... installing it.\")\n",
    "    #!pip install -q torchinfo\n",
    "    !pip install /kaggle/input/rsna-packages/torchinfo-1.7.2-py3-none-any.whl\n",
    "    from torchinfo import summary\n",
    "    \n",
    "    \n",
    "from torch.optim.lr_scheduler import ReduceLROnPlateau\n",
    "from albumentations import HorizontalFlip, VerticalFlip\n",
    "import wandb"
   ]
  },
  {
   "cell_type": "code",
   "execution_count": 5,
   "metadata": {
    "execution": {
     "iopub.execute_input": "2023-04-01T16:08:53.326380Z",
     "iopub.status.busy": "2023-04-01T16:08:53.326075Z",
     "iopub.status.idle": "2023-04-01T16:08:53.333969Z",
     "shell.execute_reply": "2023-04-01T16:08:53.333072Z",
     "shell.execute_reply.started": "2023-04-01T16:08:53.326333Z"
    }
   },
   "outputs": [],
   "source": [
    "def seed_everything(seed):\n",
    "    random.seed(seed) # фиксируем генератор случайных чисел\n",
    "    os.environ['PYTHONHASHSEED'] = str(seed) # фиксируем заполнения хешей\n",
    "    np.random.seed(seed) # фиксируем генератор случайных чисел numpy\n",
    "    torch.manual_seed(seed) # фиксируем генератор случайных чисел pytorch\n",
    "    torch.cuda.manual_seed(seed) # фиксируем генератор случайных чисел для GPU\n",
    "    torch.backends.cudnn.deterministic = True # выбираем только детерминированные алгоритмы (для сверток)\n",
    "    torch.backends.cudnn.benchmark = False # фиксируем алгоритм вычисления сверток\n",
    "\n",
    "seed_everything(12345)"
   ]
  },
  {
   "cell_type": "markdown",
   "metadata": {},
   "source": [
    "Загрузим предобработанные изображения и метаданные."
   ]
  },
  {
   "cell_type": "code",
   "execution_count": 6,
   "metadata": {
    "execution": {
     "iopub.execute_input": "2023-04-01T16:08:53.338582Z",
     "iopub.status.busy": "2023-04-01T16:08:53.335635Z",
     "iopub.status.idle": "2023-04-01T16:08:53.375148Z",
     "shell.execute_reply": "2023-04-01T16:08:53.374302Z",
     "shell.execute_reply.started": "2023-04-01T16:08:53.338545Z"
    }
   },
   "outputs": [],
   "source": [
    "df_train_cut = pd.read_csv('/kaggle/input/rsna-breast-cancer-pt-2-image-processing/RSNA-cropped-png-train/df_train.csv')\n",
    "# replace '/kaggle/working' with '/kaggle/input/rsna-breast-cancer-pt-2-image-processing/'\n"
   ]
  },
  {
   "cell_type": "markdown",
   "metadata": {},
   "source": [
    "Зафиксируем генератор случайных чисел для воспроизводимости результатов:"
   ]
  },
  {
   "cell_type": "markdown",
   "metadata": {},
   "source": [
    "Создадим конфигурацию эксперимента:"
   ]
  },
  {
   "cell_type": "code",
   "execution_count": 7,
   "metadata": {
    "execution": {
     "iopub.execute_input": "2023-04-01T16:08:53.378117Z",
     "iopub.status.busy": "2023-04-01T16:08:53.377708Z",
     "iopub.status.idle": "2023-04-01T16:08:53.384254Z",
     "shell.execute_reply": "2023-04-01T16:08:53.383158Z",
     "shell.execute_reply.started": "2023-04-01T16:08:53.378083Z"
    }
   },
   "outputs": [],
   "source": [
    "class CFG:\n",
    "\n",
    "\n",
    "  api = \"0936d7194d5bdad4c06a0dc37bd3d4360becade1\"\n",
    "  project = \"Kaggle_RSNA_challenge_final\"\n",
    "  entity = \"veronikavoronova\"\n",
    "  num_epochs = 18 # 50\n",
    "  train_batch_size = 40\n",
    "  test_batch_size = 40\n",
    "  num_workers = 4\n",
    "  lr = 3e-4\n",
    "  classes = ('healthy','cancer')\n",
    "  wandb = False # True\n",
    "    \n",
    "def class2dict(f):\n",
    "  return dict((name, getattr(f, name)) for name in dir(f) if not name.startswith('__'))"
   ]
  },
  {
   "cell_type": "markdown",
   "metadata": {},
   "source": [
    "Создадим класс для работы с датасетом. Наследуемся от класса Dataset https://pytorch.org/docs/stable/data.html#torch.utils.data.Dataset"
   ]
  },
  {
   "cell_type": "code",
   "execution_count": 8,
   "metadata": {
    "execution": {
     "iopub.execute_input": "2023-04-01T16:08:53.386348Z",
     "iopub.status.busy": "2023-04-01T16:08:53.385954Z",
     "iopub.status.idle": "2023-04-01T16:08:53.400965Z",
     "shell.execute_reply": "2023-04-01T16:08:53.399853Z",
     "shell.execute_reply.started": "2023-04-01T16:08:53.386312Z"
    }
   },
   "outputs": [],
   "source": [
    "## VV: адаптировано из https://www.kaggle.com/code/andradaolteanu/rsna-breast-cancer-eda-pytorch-baseline\n",
    "class RSNADataset(Dataset):\n",
    "    \n",
    "    def __init__(self, dataframe, path_ds, csv_columns, augment = False, is_train=True):\n",
    "        self.dataframe = dataframe\n",
    "        self.is_train = is_train\n",
    "        self.path_ds = path_ds\n",
    "        self.csv_columns = csv_columns\n",
    "        if augment:\n",
    "            self.transform = transforms.Compose([#transforms.RandomHorizontalFlip(p = 0.5),\n",
    "                                                 #transforms.RandomVerticalFlip(p = 0.3),\n",
    "                                                 transforms.RandomPerspective(p=0.1),\n",
    "                                                 transforms.RandomRotation(degrees=(-90,90)),\n",
    "                                                 transforms.Grayscale(num_output_channels=3),\n",
    "                                                 transforms.ToTensor()])\n",
    "        else:\n",
    "            self.transform = transforms.Compose([transforms.Grayscale(num_output_channels=3),\n",
    "                                                 transforms.ToTensor()])\n",
    "        \n",
    "    def __len__(self):\n",
    "        return len(self.dataframe)\n",
    "    \n",
    "    def __getitem__(self, index):\n",
    "        self.dataframe['new_image_path'] =  self.path_ds + \\\n",
    "        self.dataframe.patient_id.map(str) + '_' + \\\n",
    "        self.dataframe.image_id.map(str) + '.png'\n",
    "\n",
    "        image_path = self.dataframe['new_image_path'].iloc[index]\n",
    "        im_frame = Image.open(image_path)\n",
    "        transf_image = (self.transform(im_frame))        \n",
    "        csv_data = (np.array(self.dataframe.iloc[index][self.csv_columns].values, \n",
    "                            dtype=np.float32)) #torch.FloatTensor\n",
    "        if not self.is_train:\n",
    "            self.dataframe = self.dataframe.replace({'R': 0, 'L' : 1})\n",
    "            subm_data = (np.array(self.dataframe.iloc[index][['patient_id','laterality']].values,dtype=np.float32)) #,'laterality'\n",
    "        \n",
    "        if self.is_train:\n",
    "            label = self.dataframe['cancer'].iloc[index]\n",
    "            return transf_image, csv_data, label\n",
    "\n",
    "        else:\n",
    "            return transf_image, csv_data, subm_data\n"
   ]
  },
  {
   "cell_type": "markdown",
   "metadata": {},
   "source": [
    "Создадим экземпляр класса и проверим, что все работает"
   ]
  },
  {
   "cell_type": "code",
   "execution_count": 9,
   "metadata": {
    "execution": {
     "iopub.execute_input": "2023-04-01T16:08:53.403209Z",
     "iopub.status.busy": "2023-04-01T16:08:53.402545Z",
     "iopub.status.idle": "2023-04-01T16:08:53.500604Z",
     "shell.execute_reply": "2023-04-01T16:08:53.499395Z",
     "shell.execute_reply.started": "2023-04-01T16:08:53.403170Z"
    }
   },
   "outputs": [],
   "source": [
    "class clr:\n",
    "    S = '\\033[1m' + '\\033[91m'\n",
    "    E = '\\033[0m'\n",
    "    \n",
    "rsna_train = RSNADataset(df_train_cut.iloc[0:10],\n",
    "                         augment = False,\n",
    "                         path_ds = '/kaggle/input/rsna-breast-cancer-pt-2-image-processing/RSNA-cropped-png-train_gabor/',\n",
    "                         csv_columns = ['age','implant'])\n",
    "\n",
    "rsna_dataloader = DataLoader(rsna_train, \n",
    "                             batch_size=CFG.train_batch_size, \n",
    "                             shuffle=False)\n",
    "use_cuda = torch.cuda.is_available()\n",
    "device = torch.device(\"cuda\" if use_cuda else \"cpu\")"
   ]
  },
  {
   "cell_type": "markdown",
   "metadata": {},
   "source": [
    "Конструктор класса работает корректно. Теперь попробуем разбить нашу выборку на две части (тренировочную и тестовую) в соотношении 70 на 30."
   ]
  },
  {
   "cell_type": "code",
   "execution_count": 10,
   "metadata": {
    "execution": {
     "iopub.execute_input": "2023-04-01T16:08:53.504741Z",
     "iopub.status.busy": "2023-04-01T16:08:53.503643Z",
     "iopub.status.idle": "2023-04-01T16:08:53.514655Z",
     "shell.execute_reply": "2023-04-01T16:08:53.513752Z",
     "shell.execute_reply.started": "2023-04-01T16:08:53.504698Z"
    }
   },
   "outputs": [],
   "source": [
    "PATH_DS = '/kaggle/input/rsna-breast-cancer-pt-2-image-processing/RSNA-cropped-png-train_gabor/'\n",
    "\n",
    "def init_ds(ds, path_ds, csv_columns = ['age','implant'], augment=False):\n",
    "     rsna_train = RSNADataset(ds,\n",
    "                              path_ds = PATH_DS,\n",
    "                              csv_columns = ['age','implant'])\n",
    "     if augment:\n",
    "        rsna_train = RSNADataset(ds,\n",
    "                              path_ds = PATH_DS,\n",
    "                              augment = True,\n",
    "                              csv_columns = ['age','implant'])   \n",
    "\n",
    "     train_ds, valid_ds = torch.utils.data.random_split(dataset = rsna_train, \n",
    "                                                       lengths = [3793-1000,1000], \n",
    "                                                       generator = \n",
    "                                                       torch.Generator().manual_seed(42))\n",
    "     train_loader = DataLoader(train_ds, \n",
    "                              batch_size = CFG.train_batch_size, \n",
    "                              shuffle = False, \n",
    "                              drop_last = True)\n",
    "\n",
    "     valid_loader = DataLoader(valid_ds, \n",
    "                              batch_size = CFG.train_batch_size,\n",
    "                              shuffle = False, \n",
    "                              drop_last = True)\n",
    "     return train_loader, valid_loader"
   ]
  },
  {
   "cell_type": "code",
   "execution_count": 11,
   "metadata": {
    "execution": {
     "iopub.execute_input": "2023-04-01T16:08:53.517271Z",
     "iopub.status.busy": "2023-04-01T16:08:53.516150Z",
     "iopub.status.idle": "2023-04-01T16:08:53.525761Z",
     "shell.execute_reply": "2023-04-01T16:08:53.525116Z",
     "shell.execute_reply.started": "2023-04-01T16:08:53.517233Z"
    }
   },
   "outputs": [],
   "source": [
    "train_loader, valid_loader = init_ds(df_train_cut, path_ds = PATH_DS)"
   ]
  },
  {
   "cell_type": "markdown",
   "metadata": {},
   "source": [
    "Теперь попробуем несколько готовых решений с fine tuning"
   ]
  },
  {
   "cell_type": "code",
   "execution_count": 12,
   "metadata": {
    "execution": {
     "iopub.execute_input": "2023-04-01T16:08:53.528283Z",
     "iopub.status.busy": "2023-04-01T16:08:53.527505Z",
     "iopub.status.idle": "2023-04-01T16:08:53.545946Z",
     "shell.execute_reply": "2023-04-01T16:08:53.545080Z",
     "shell.execute_reply.started": "2023-04-01T16:08:53.528245Z"
    }
   },
   "outputs": [],
   "source": [
    "## VV: to modify https://pytorch.org/tutorials/beginner/finetuning_torchvision_models_tutorial.html\n",
    "## about pretrained model usage for dicom https://www.researchgate.net/post/Can-we-use-pre-trained-models-like-InceptionV3-VGG16-on-medical-image-datasets\n",
    "def set_parameter_requires_grad(model, feature_extracting):\n",
    "    if feature_extracting:\n",
    "        for param in model.parameters():\n",
    "            param.requires_grad = False\n",
    "\n",
    "def initialize_model(model_name, num_classes, feature_extract, use_pretrained=True):\n",
    "    # Initialize these variables which will be set in this if statement. Each of these\n",
    "    #   variables is model specific.\n",
    "    model_ft = None\n",
    "    input_size = 0\n",
    "\n",
    "    if model_name == \"resnet\":\n",
    "        \"\"\" Resnet50\n",
    "        \"\"\"\n",
    "        model_ft = models.resnet50(pretrained=use_pretrained)\n",
    "        set_parameter_requires_grad(model_ft, feature_extract)\n",
    "        num_ftrs = model_ft.fc.in_features\n",
    "        model_ft.fc = nn.Linear(num_ftrs, num_classes)\n",
    "        model_ft.num_classes = num_classes\n",
    "        input_size = 224\n",
    "\n",
    "    elif model_name == \"alexnet\":\n",
    "        \"\"\" Alexnet\n",
    "        \"\"\"\n",
    "        model_ft = models.alexnet(pretrained=use_pretrained)\n",
    "        set_parameter_requires_grad(model_ft, feature_extract)\n",
    "        num_ftrs = model_ft.classifier[6].in_features\n",
    "        model_ft.classifier[6] = nn.Linear(num_ftrs,num_classes)\n",
    "        model_ft.num_classes = num_classes\n",
    "        input_size = 224\n",
    "\n",
    "    elif model_name == \"vgg11\":\n",
    "        \"\"\" VGG11_bn\n",
    "        \"\"\"\n",
    "        model_ft = models.vgg11_bn(pretrained=use_pretrained)\n",
    "        set_parameter_requires_grad(model_ft, feature_extract)\n",
    "        num_ftrs = model_ft.classifier[6].in_features\n",
    "        model_ft.classifier[6] = nn.Linear(num_ftrs,num_classes)\n",
    "        model_ft.num_classes = num_classes\n",
    "        input_size = 224\n",
    "    elif model_name == \"vgg16\":\n",
    "        \"\"\" VGG16_bn\n",
    "        \"\"\"\n",
    "        model_ft = models.vgg11_bn(pretrained=use_pretrained)\n",
    "        set_parameter_requires_grad(model_ft, feature_extract)\n",
    "        num_ftrs = model_ft.classifier[6].in_features\n",
    "        model_ft.classifier[6] = nn.Linear(num_ftrs,num_classes)\n",
    "        model_ft.num_classes = num_classes\n",
    "        input_size = 224\n",
    "    elif model_name == \"vgg19\":\n",
    "        \"\"\" VGG19_bn\n",
    "        \"\"\"\n",
    "        model_ft = models.vgg11_bn(pretrained=use_pretrained)\n",
    "        set_parameter_requires_grad(model_ft, feature_extract)\n",
    "        num_ftrs = model_ft.classifier[6].in_features\n",
    "        model_ft.classifier[6] = nn.Linear(num_ftrs,num_classes)\n",
    "        model_ft.num_classes = num_classes\n",
    "        input_size = 224\n",
    "\n",
    "    elif model_name == \"squeezenet\":\n",
    "        \"\"\" Squeezenet\n",
    "        \"\"\"\n",
    "        model_ft = models.squeezenet1_0(pretrained=use_pretrained)\n",
    "        set_parameter_requires_grad(model_ft, feature_extract)\n",
    "        model_ft.classifier[1] = nn.Conv2d(512, num_classes, kernel_size=(1,1), stride=(1,1))\n",
    "        model_ft.num_classes = num_classes\n",
    "        input_size = 224\n",
    "\n",
    "    elif model_name == \"densenet\":\n",
    "        \"\"\" Densenet\n",
    "        \"\"\"\n",
    "        model_ft = models.densenet121(pretrained=use_pretrained)\n",
    "        set_parameter_requires_grad(model_ft, feature_extract)\n",
    "        num_ftrs = model_ft.classifier.in_features\n",
    "        model_ft.classifier = nn.Linear(num_ftrs, num_classes)\n",
    "        model_ft.num_classes = num_classes\n",
    "        input_size = 224\n",
    "\n",
    "    elif model_name == \"efficientnet\":\n",
    "        \"\"\" efficientnet_b5\n",
    "        \"\"\"\n",
    "        model_ft = models.efficientnet_b5(pretrained=use_pretrained)\n",
    "        set_parameter_requires_grad(model_ft, feature_extract)\n",
    "        num_ftrs = model_ft.classifier[1].in_features\n",
    "        model_ft.classifier[1] = nn.Linear(num_ftrs, num_classes)\n",
    "        model_ft.num_classes = num_classes\n",
    "        input_size = 224\n",
    "\n",
    "    else:\n",
    "        print(\"Invalid model name, exiting...\")\n",
    "        exit()\n",
    "\n",
    "    return model_ft, input_size"
   ]
  },
  {
   "cell_type": "markdown",
   "metadata": {},
   "source": [
    "Загрузка моделей работает адекватно.\n",
    "Теперь создадим класс модели, который на вход принимает одну из предобученных моделей и дополняет выход сети предсказаниями по метаданным."
   ]
  },
  {
   "cell_type": "code",
   "execution_count": 13,
   "metadata": {
    "execution": {
     "iopub.execute_input": "2023-04-01T16:08:53.550517Z",
     "iopub.status.busy": "2023-04-01T16:08:53.550158Z",
     "iopub.status.idle": "2023-04-01T16:08:53.560856Z",
     "shell.execute_reply": "2023-04-01T16:08:53.559893Z",
     "shell.execute_reply.started": "2023-04-01T16:08:53.550491Z"
    }
   },
   "outputs": [],
   "source": [
    "class RSNA_model(nn.Module):\n",
    "    def __init__(self,model,csv_use = False, n_neu=4,  csv_neu=2):\n",
    "        super().__init__()\n",
    "        self.n_neu = n_neu       \n",
    "        self.csv_neu = csv_neu\n",
    "        self.csv_use = csv_use\n",
    "        self.features = model\n",
    "        self.num_classes = model.num_classes\n",
    "        self.csv = nn.Sequential(nn.Linear(self.csv_neu, self.n_neu),\n",
    "                                 nn.ReLU(),\n",
    "                                 nn.Linear(self.n_neu, 100),\n",
    "                                 nn.ReLU())\n",
    "        if self.csv_use:\n",
    "            self.classif = nn.Linear(model.num_classes + 100, 2)\n",
    "        else:\n",
    "            self.classif = nn.Linear(model.num_classes, 2)\n",
    "        \n",
    "        \n",
    "    def forward(self, img, meta):\n",
    "        img_1 = self.features(img)\n",
    "        meta_1 = self.csv(meta)\n",
    "        if self.csv_use:\n",
    "            x = torch.cat((img_1, meta_1), dim=1)       \n",
    "        else:\n",
    "            x = img_1\n",
    "        x   = self.classif(x)\n",
    "        return x"
   ]
  },
  {
   "cell_type": "markdown",
   "metadata": {},
   "source": [
    "Определим функцию обучения."
   ]
  },
  {
   "cell_type": "code",
   "execution_count": 14,
   "metadata": {
    "execution": {
     "iopub.execute_input": "2023-04-01T16:08:53.563659Z",
     "iopub.status.busy": "2023-04-01T16:08:53.563025Z",
     "iopub.status.idle": "2023-04-01T16:08:53.575928Z",
     "shell.execute_reply": "2023-04-01T16:08:53.574700Z",
     "shell.execute_reply.started": "2023-04-01T16:08:53.563621Z"
    }
   },
   "outputs": [],
   "source": [
    "## VV: частично использован код из наших семинаров\n",
    "def train(model, train_loader):\n",
    "        \n",
    "    model = model.train() \n",
    "    criterion = torch.nn.CrossEntropyLoss()\n",
    "    optimizer = torch.optim.Adam(model.parameters(), lr = CFG.lr)\n",
    "    scheduler = ReduceLROnPlateau(optimizer=optimizer, mode='max', \n",
    "                                      patience=1, verbose=True, factor=0.4)\n",
    "\n",
    "    train_accuracy,train_loss = 0, 0\n",
    "    n_batch_train, len_batch_train = len(train_loader), len(train_loader.dataset)\n",
    "    \n",
    "    for batch_idx, (data, meta, target) in tqdm(enumerate(train_loader), total=n_batch_train):\n",
    "        train_accuracy_batch = 0\n",
    "        data, meta, target = data.to(device), meta.to(device), target.to(device)\n",
    "        optimizer.zero_grad()\n",
    "        out = model(data, meta)\n",
    "        pred = out.argmax(dim=1, keepdim=True)\n",
    "        train_loss_batch = criterion(out, target) ## VV: for BCElogitloss https://discuss.pytorch.org/t/how-to-cast-a-tensor-to-another-type/2713/2\n",
    "        train_accuracy_batch += pred.eq(target.view_as(pred)).sum().item()\n",
    "        train_loss_batch.backward()\n",
    "            \n",
    "        train_accuracy += train_accuracy_batch    \n",
    "        train_loss += train_loss_batch\n",
    "            \n",
    "        optimizer.step()\n",
    "        \n",
    "    tqdm.write('Train set: Average loss: {:.4f}, Accuracy: {:.2f}%'.format(\n",
    "        train_loss/n_batch_train, 100. * train_accuracy/len_batch_train))\n",
    "    \n",
    "    if CFG.wandb:\n",
    "        wandb.log({'train_loss': train_loss/n_batch_train,\n",
    "                   'train_accuracy': train_accuracy/len_batch_train})\n",
    "    return train_accuracy, train_loss"
   ]
  },
  {
   "cell_type": "code",
   "execution_count": 15,
   "metadata": {
    "execution": {
     "iopub.execute_input": "2023-04-01T16:08:53.577894Z",
     "iopub.status.busy": "2023-04-01T16:08:53.577447Z",
     "iopub.status.idle": "2023-04-01T16:08:53.590297Z",
     "shell.execute_reply": "2023-04-01T16:08:53.589344Z",
     "shell.execute_reply.started": "2023-04-01T16:08:53.577859Z"
    }
   },
   "outputs": [],
   "source": [
    "def valid(model, valid_loader):\n",
    "    model = model.eval() \n",
    "    valid_accuracy,valid_loss = 0, 0\n",
    "    n_batch_valid, len_batch_valid = len(valid_loader), len(valid_loader.dataset)\n",
    "    criterion = torch.nn.CrossEntropyLoss() \n",
    "    \n",
    "    with torch.no_grad():\n",
    "        for batch_idx, (data, meta, target) in tqdm(enumerate(valid_loader), total=n_batch_valid):\n",
    "            valid_accuracy_batch = 0\n",
    "            data, meta, target = data.to(device), meta.to(device), target.to(device)\n",
    "            model = model.eval()\n",
    "            out = model(data, meta)\n",
    "            pred = out.argmax(dim=1, keepdim=True)\n",
    "            valid_loss_batch = criterion(out, target)\n",
    "            valid_accuracy_batch += pred.eq(target.view_as(pred)).sum().item()\n",
    "            \n",
    "            valid_accuracy += valid_accuracy_batch\n",
    "            valid_loss += valid_loss_batch\n",
    "            \n",
    "    tqdm.write('Valid set: Average loss: {:.4f}, Accuracy: {:.2f}%'.format(\n",
    "        valid_loss/n_batch_valid, 100. * valid_accuracy/len_batch_valid))\n",
    "    \n",
    "    if CFG.wandb:\n",
    "        wandb.log({'valid_loss': valid_loss/n_batch_valid,\n",
    "                   'valid_accuracy': valid_accuracy/len_batch_valid})\n",
    "    return valid_accuracy, valid_loss"
   ]
  },
  {
   "cell_type": "code",
   "execution_count": 16,
   "metadata": {
    "execution": {
     "iopub.execute_input": "2023-04-01T16:08:53.592738Z",
     "iopub.status.busy": "2023-04-01T16:08:53.592168Z",
     "iopub.status.idle": "2023-04-01T16:08:53.603393Z",
     "shell.execute_reply": "2023-04-01T16:08:53.602475Z",
     "shell.execute_reply.started": "2023-04-01T16:08:53.592689Z"
    }
   },
   "outputs": [],
   "source": [
    "def main_fun(model, train_loader, valid_loader, augment_ds_incr = False):\n",
    "    if CFG.wandb:\n",
    "        os.environ[\"WANDB_API_KEY\"] = CFG.api\n",
    "        wandb.init(project=CFG.project, entity=CFG.entity, reinit=True, config=class2dict(CFG))\n",
    "    use_cuda = torch.cuda.is_available()\n",
    "    device = torch.device(\"cuda\" if use_cuda else \"cpu\")\n",
    "    kwargs = {'num_workers': CFG.num_workers, 'pin_memory': True} if \\\n",
    "    use_cuda else {}\n",
    "    \n",
    "    model = model.to(device)\n",
    "    \n",
    "    for epoch in range(1, CFG.num_epochs + 1):\n",
    "        if augment_ds_incr:\n",
    "            train_loader, valid_loader = init_ds(df_train_cut, \n",
    "                                                 path_ds=PATH_DS, \n",
    "                                                 augment=True) ## VV: for DS increase random aug generation before each epoch\n",
    "        print('\\nEpoch:', epoch)\n",
    "        \n",
    "        train(model, train_loader)\n",
    "        valid(model, valid_loader)\n",
    "          \n",
    "    print('------------- FINISH ----------------')"
   ]
  },
  {
   "cell_type": "markdown",
   "metadata": {},
   "source": [
    "Попробуем предобученные модели в режиме fine tuning:"
   ]
  },
  {
   "cell_type": "code",
   "execution_count": 17,
   "metadata": {
    "execution": {
     "iopub.execute_input": "2023-04-01T16:08:53.605156Z",
     "iopub.status.busy": "2023-04-01T16:08:53.604812Z",
     "iopub.status.idle": "2023-04-01T16:08:53.616979Z",
     "shell.execute_reply": "2023-04-01T16:08:53.615977Z",
     "shell.execute_reply.started": "2023-04-01T16:08:53.605122Z"
    }
   },
   "outputs": [],
   "source": [
    "MODE = 'none' #'model_selection' ## 'model_selection', 'model_freeze_test'\n",
    "\n",
    "model_list = ['resnet',\n",
    "              'alexnet',\n",
    "              'vgg11',\n",
    "              'vgg16',\n",
    "              'vgg19',\n",
    "              'squeezenet',\n",
    "              'densenet']    \n",
    "\n",
    "trained_model_list = {}\n",
    "\n",
    "\n",
    "if MODE == 'model_selection':\n",
    "\n",
    "    for model in model_list:\n",
    "    \n",
    "       model_1 = initialize_model(model, 2, \n",
    "                                    feature_extract=True, use_pretrained=True)[0]\n",
    "       model_2 = RSNA_model(model_1, csv_use = False)\n",
    "       main_fun(model_2, train_loader, valid_loader)\n",
    "       trained_model_list[model] = model_2"
   ]
  },
  {
   "cell_type": "markdown",
   "metadata": {},
   "source": [
    "Проверим эффект аугментации и добавления метаинформации на результат работы лучшей модели (vgg11_bn)."
   ]
  },
  {
   "cell_type": "code",
   "execution_count": 18,
   "metadata": {
    "execution": {
     "iopub.execute_input": "2023-04-01T16:08:53.618728Z",
     "iopub.status.busy": "2023-04-01T16:08:53.618377Z",
     "iopub.status.idle": "2023-04-01T16:34:27.857418Z",
     "shell.execute_reply": "2023-04-01T16:34:27.856406Z",
     "shell.execute_reply.started": "2023-04-01T16:08:53.618693Z"
    }
   },
   "outputs": [
    {
     "name": "stdout",
     "output_type": "stream",
     "text": [
      "\n",
      "Epoch: 1\n"
     ]
    },
    {
     "data": {
      "application/vnd.jupyter.widget-view+json": {
       "model_id": "4b950a275f4740ce84f3ec0b03156205",
       "version_major": 2,
       "version_minor": 0
      },
      "text/plain": [
       "  0%|          | 0/69 [00:00<?, ?it/s]"
      ]
     },
     "metadata": {},
     "output_type": "display_data"
    },
    {
     "name": "stdout",
     "output_type": "stream",
     "text": [
      "Train set: Average loss: 0.6266, Accuracy: 68.64%\n"
     ]
    },
    {
     "data": {
      "application/vnd.jupyter.widget-view+json": {
       "model_id": "99113193886c4250835e1f15227f3f31",
       "version_major": 2,
       "version_minor": 0
      },
      "text/plain": [
       "  0%|          | 0/25 [00:00<?, ?it/s]"
      ]
     },
     "metadata": {},
     "output_type": "display_data"
    },
    {
     "name": "stdout",
     "output_type": "stream",
     "text": [
      "Valid set: Average loss: 0.5936, Accuracy: 68.30%\n",
      "\n",
      "Epoch: 2\n"
     ]
    },
    {
     "data": {
      "application/vnd.jupyter.widget-view+json": {
       "model_id": "a4032a6d33c7462481912c43da62b1c2",
       "version_major": 2,
       "version_minor": 0
      },
      "text/plain": [
       "  0%|          | 0/69 [00:00<?, ?it/s]"
      ]
     },
     "metadata": {},
     "output_type": "display_data"
    },
    {
     "name": "stdout",
     "output_type": "stream",
     "text": [
      "Train set: Average loss: 0.5693, Accuracy: 69.17%\n"
     ]
    },
    {
     "data": {
      "application/vnd.jupyter.widget-view+json": {
       "model_id": "bc08adcb859b4762af4b95d1b6db73f3",
       "version_major": 2,
       "version_minor": 0
      },
      "text/plain": [
       "  0%|          | 0/25 [00:00<?, ?it/s]"
      ]
     },
     "metadata": {},
     "output_type": "display_data"
    },
    {
     "name": "stdout",
     "output_type": "stream",
     "text": [
      "Valid set: Average loss: 0.5426, Accuracy: 70.40%\n",
      "\n",
      "Epoch: 3\n"
     ]
    },
    {
     "data": {
      "application/vnd.jupyter.widget-view+json": {
       "model_id": "c9fd699d9a7243b49f0e978ae3cc63a1",
       "version_major": 2,
       "version_minor": 0
      },
      "text/plain": [
       "  0%|          | 0/69 [00:00<?, ?it/s]"
      ]
     },
     "metadata": {},
     "output_type": "display_data"
    },
    {
     "name": "stdout",
     "output_type": "stream",
     "text": [
      "Train set: Average loss: 0.5320, Accuracy: 70.03%\n"
     ]
    },
    {
     "data": {
      "application/vnd.jupyter.widget-view+json": {
       "model_id": "ec096d22ed294d07992d63f024103c93",
       "version_major": 2,
       "version_minor": 0
      },
      "text/plain": [
       "  0%|          | 0/25 [00:00<?, ?it/s]"
      ]
     },
     "metadata": {},
     "output_type": "display_data"
    },
    {
     "name": "stdout",
     "output_type": "stream",
     "text": [
      "Valid set: Average loss: 0.5139, Accuracy: 73.60%\n",
      "\n",
      "Epoch: 4\n"
     ]
    },
    {
     "data": {
      "application/vnd.jupyter.widget-view+json": {
       "model_id": "60fa27bee70a4bf18860f582ccd10488",
       "version_major": 2,
       "version_minor": 0
      },
      "text/plain": [
       "  0%|          | 0/69 [00:00<?, ?it/s]"
      ]
     },
     "metadata": {},
     "output_type": "display_data"
    },
    {
     "name": "stdout",
     "output_type": "stream",
     "text": [
      "Train set: Average loss: 0.5105, Accuracy: 70.96%\n"
     ]
    },
    {
     "data": {
      "application/vnd.jupyter.widget-view+json": {
       "model_id": "246824fb98d44c98b84fbc1346ce3cac",
       "version_major": 2,
       "version_minor": 0
      },
      "text/plain": [
       "  0%|          | 0/25 [00:00<?, ?it/s]"
      ]
     },
     "metadata": {},
     "output_type": "display_data"
    },
    {
     "name": "stdout",
     "output_type": "stream",
     "text": [
      "Valid set: Average loss: 0.4982, Accuracy: 75.10%\n",
      "\n",
      "Epoch: 5\n"
     ]
    },
    {
     "data": {
      "application/vnd.jupyter.widget-view+json": {
       "model_id": "52c83d180b21401aa6870801e6e84c6c",
       "version_major": 2,
       "version_minor": 0
      },
      "text/plain": [
       "  0%|          | 0/69 [00:00<?, ?it/s]"
      ]
     },
     "metadata": {},
     "output_type": "display_data"
    },
    {
     "name": "stdout",
     "output_type": "stream",
     "text": [
      "Train set: Average loss: 0.4977, Accuracy: 72.00%\n"
     ]
    },
    {
     "data": {
      "application/vnd.jupyter.widget-view+json": {
       "model_id": "c29ea0ff9ec64a658817516145df87ca",
       "version_major": 2,
       "version_minor": 0
      },
      "text/plain": [
       "  0%|          | 0/25 [00:00<?, ?it/s]"
      ]
     },
     "metadata": {},
     "output_type": "display_data"
    },
    {
     "name": "stdout",
     "output_type": "stream",
     "text": [
      "Valid set: Average loss: 0.4882, Accuracy: 75.80%\n",
      "\n",
      "Epoch: 6\n"
     ]
    },
    {
     "data": {
      "application/vnd.jupyter.widget-view+json": {
       "model_id": "ff014d9763e248d9abd009bdcbc2afd3",
       "version_major": 2,
       "version_minor": 0
      },
      "text/plain": [
       "  0%|          | 0/69 [00:00<?, ?it/s]"
      ]
     },
     "metadata": {},
     "output_type": "display_data"
    },
    {
     "name": "stdout",
     "output_type": "stream",
     "text": [
      "Train set: Average loss: 0.4881, Accuracy: 72.22%\n"
     ]
    },
    {
     "data": {
      "application/vnd.jupyter.widget-view+json": {
       "model_id": "29c452f3577b43e9b49267bf080d4e0b",
       "version_major": 2,
       "version_minor": 0
      },
      "text/plain": [
       "  0%|          | 0/25 [00:00<?, ?it/s]"
      ]
     },
     "metadata": {},
     "output_type": "display_data"
    },
    {
     "name": "stdout",
     "output_type": "stream",
     "text": [
      "Valid set: Average loss: 0.4826, Accuracy: 75.80%\n",
      "\n",
      "Epoch: 7\n"
     ]
    },
    {
     "data": {
      "application/vnd.jupyter.widget-view+json": {
       "model_id": "b67145de510043a6b7e4684b85c80cd2",
       "version_major": 2,
       "version_minor": 0
      },
      "text/plain": [
       "  0%|          | 0/69 [00:00<?, ?it/s]"
      ]
     },
     "metadata": {},
     "output_type": "display_data"
    },
    {
     "name": "stdout",
     "output_type": "stream",
     "text": [
      "Train set: Average loss: 0.4828, Accuracy: 73.00%\n"
     ]
    },
    {
     "data": {
      "application/vnd.jupyter.widget-view+json": {
       "model_id": "b7d3b74b4e8143fab957268b6078e2ce",
       "version_major": 2,
       "version_minor": 0
      },
      "text/plain": [
       "  0%|          | 0/25 [00:00<?, ?it/s]"
      ]
     },
     "metadata": {},
     "output_type": "display_data"
    },
    {
     "name": "stdout",
     "output_type": "stream",
     "text": [
      "Valid set: Average loss: 0.4759, Accuracy: 75.80%\n",
      "\n",
      "Epoch: 8\n"
     ]
    },
    {
     "data": {
      "application/vnd.jupyter.widget-view+json": {
       "model_id": "1581117db0f74444baed97472a2e5038",
       "version_major": 2,
       "version_minor": 0
      },
      "text/plain": [
       "  0%|          | 0/69 [00:00<?, ?it/s]"
      ]
     },
     "metadata": {},
     "output_type": "display_data"
    },
    {
     "name": "stdout",
     "output_type": "stream",
     "text": [
      "Train set: Average loss: 0.4769, Accuracy: 72.90%\n"
     ]
    },
    {
     "data": {
      "application/vnd.jupyter.widget-view+json": {
       "model_id": "5bda0257ce144fe282e7b03da7042d48",
       "version_major": 2,
       "version_minor": 0
      },
      "text/plain": [
       "  0%|          | 0/25 [00:00<?, ?it/s]"
      ]
     },
     "metadata": {},
     "output_type": "display_data"
    },
    {
     "name": "stdout",
     "output_type": "stream",
     "text": [
      "Valid set: Average loss: 0.4704, Accuracy: 75.50%\n",
      "\n",
      "Epoch: 9\n"
     ]
    },
    {
     "data": {
      "application/vnd.jupyter.widget-view+json": {
       "model_id": "70ec40896ad244cd85fec46b30d3182a",
       "version_major": 2,
       "version_minor": 0
      },
      "text/plain": [
       "  0%|          | 0/69 [00:00<?, ?it/s]"
      ]
     },
     "metadata": {},
     "output_type": "display_data"
    },
    {
     "name": "stdout",
     "output_type": "stream",
     "text": [
      "Train set: Average loss: 0.4745, Accuracy: 73.22%\n"
     ]
    },
    {
     "data": {
      "application/vnd.jupyter.widget-view+json": {
       "model_id": "52cfbafe33654544b9c8363013424bb0",
       "version_major": 2,
       "version_minor": 0
      },
      "text/plain": [
       "  0%|          | 0/25 [00:00<?, ?it/s]"
      ]
     },
     "metadata": {},
     "output_type": "display_data"
    },
    {
     "name": "stdout",
     "output_type": "stream",
     "text": [
      "Valid set: Average loss: 0.4688, Accuracy: 76.00%\n",
      "\n",
      "Epoch: 10\n"
     ]
    },
    {
     "data": {
      "application/vnd.jupyter.widget-view+json": {
       "model_id": "22cb30ef694a4c39baf9c83e7967fbfb",
       "version_major": 2,
       "version_minor": 0
      },
      "text/plain": [
       "  0%|          | 0/69 [00:00<?, ?it/s]"
      ]
     },
     "metadata": {},
     "output_type": "display_data"
    },
    {
     "name": "stdout",
     "output_type": "stream",
     "text": [
      "Train set: Average loss: 0.4714, Accuracy: 73.97%\n"
     ]
    },
    {
     "data": {
      "application/vnd.jupyter.widget-view+json": {
       "model_id": "234fd52b94b04625a8c88b3f403c3967",
       "version_major": 2,
       "version_minor": 0
      },
      "text/plain": [
       "  0%|          | 0/25 [00:00<?, ?it/s]"
      ]
     },
     "metadata": {},
     "output_type": "display_data"
    },
    {
     "name": "stdout",
     "output_type": "stream",
     "text": [
      "Valid set: Average loss: 0.4670, Accuracy: 75.20%\n",
      "\n",
      "Epoch: 11\n"
     ]
    },
    {
     "data": {
      "application/vnd.jupyter.widget-view+json": {
       "model_id": "b3e299ca2dd6455fa13967957d0a813e",
       "version_major": 2,
       "version_minor": 0
      },
      "text/plain": [
       "  0%|          | 0/69 [00:00<?, ?it/s]"
      ]
     },
     "metadata": {},
     "output_type": "display_data"
    },
    {
     "name": "stdout",
     "output_type": "stream",
     "text": [
      "Train set: Average loss: 0.4703, Accuracy: 74.15%\n"
     ]
    },
    {
     "data": {
      "application/vnd.jupyter.widget-view+json": {
       "model_id": "c60da7508bad4ec0bade752fa5bcbdb4",
       "version_major": 2,
       "version_minor": 0
      },
      "text/plain": [
       "  0%|          | 0/25 [00:00<?, ?it/s]"
      ]
     },
     "metadata": {},
     "output_type": "display_data"
    },
    {
     "name": "stdout",
     "output_type": "stream",
     "text": [
      "Valid set: Average loss: 0.4636, Accuracy: 75.80%\n",
      "\n",
      "Epoch: 12\n"
     ]
    },
    {
     "data": {
      "application/vnd.jupyter.widget-view+json": {
       "model_id": "837cc9c727b54a2388f64bc123c90103",
       "version_major": 2,
       "version_minor": 0
      },
      "text/plain": [
       "  0%|          | 0/69 [00:00<?, ?it/s]"
      ]
     },
     "metadata": {},
     "output_type": "display_data"
    },
    {
     "name": "stdout",
     "output_type": "stream",
     "text": [
      "Train set: Average loss: 0.4587, Accuracy: 74.44%\n"
     ]
    },
    {
     "data": {
      "application/vnd.jupyter.widget-view+json": {
       "model_id": "0ecca46491da41d89476a16089cb3527",
       "version_major": 2,
       "version_minor": 0
      },
      "text/plain": [
       "  0%|          | 0/25 [00:00<?, ?it/s]"
      ]
     },
     "metadata": {},
     "output_type": "display_data"
    },
    {
     "name": "stdout",
     "output_type": "stream",
     "text": [
      "Valid set: Average loss: 0.4639, Accuracy: 75.40%\n",
      "\n",
      "Epoch: 13\n"
     ]
    },
    {
     "data": {
      "application/vnd.jupyter.widget-view+json": {
       "model_id": "6d3fbd7333e9432f8fe50823ebce568d",
       "version_major": 2,
       "version_minor": 0
      },
      "text/plain": [
       "  0%|          | 0/69 [00:00<?, ?it/s]"
      ]
     },
     "metadata": {},
     "output_type": "display_data"
    },
    {
     "name": "stdout",
     "output_type": "stream",
     "text": [
      "Train set: Average loss: 0.4611, Accuracy: 74.76%\n"
     ]
    },
    {
     "data": {
      "application/vnd.jupyter.widget-view+json": {
       "model_id": "c53cb07dae004eb3b2fbd014859a9a84",
       "version_major": 2,
       "version_minor": 0
      },
      "text/plain": [
       "  0%|          | 0/25 [00:00<?, ?it/s]"
      ]
     },
     "metadata": {},
     "output_type": "display_data"
    },
    {
     "name": "stdout",
     "output_type": "stream",
     "text": [
      "Valid set: Average loss: 0.4601, Accuracy: 75.60%\n",
      "\n",
      "Epoch: 14\n"
     ]
    },
    {
     "data": {
      "application/vnd.jupyter.widget-view+json": {
       "model_id": "a28c5f93c757487089f4c611e2266e07",
       "version_major": 2,
       "version_minor": 0
      },
      "text/plain": [
       "  0%|          | 0/69 [00:00<?, ?it/s]"
      ]
     },
     "metadata": {},
     "output_type": "display_data"
    },
    {
     "name": "stdout",
     "output_type": "stream",
     "text": [
      "Train set: Average loss: 0.4573, Accuracy: 74.26%\n"
     ]
    },
    {
     "data": {
      "application/vnd.jupyter.widget-view+json": {
       "model_id": "80980ec490d44374adc6f48611b5b1ce",
       "version_major": 2,
       "version_minor": 0
      },
      "text/plain": [
       "  0%|          | 0/25 [00:00<?, ?it/s]"
      ]
     },
     "metadata": {},
     "output_type": "display_data"
    },
    {
     "name": "stdout",
     "output_type": "stream",
     "text": [
      "Valid set: Average loss: 0.4561, Accuracy: 75.30%\n",
      "\n",
      "Epoch: 15\n"
     ]
    },
    {
     "data": {
      "application/vnd.jupyter.widget-view+json": {
       "model_id": "0ea2bd61a92e4387b63554d241e93709",
       "version_major": 2,
       "version_minor": 0
      },
      "text/plain": [
       "  0%|          | 0/69 [00:00<?, ?it/s]"
      ]
     },
     "metadata": {},
     "output_type": "display_data"
    },
    {
     "name": "stdout",
     "output_type": "stream",
     "text": [
      "Train set: Average loss: 0.4535, Accuracy: 75.26%\n"
     ]
    },
    {
     "data": {
      "application/vnd.jupyter.widget-view+json": {
       "model_id": "1054730f6fb54992a1174525e8ebf6b3",
       "version_major": 2,
       "version_minor": 0
      },
      "text/plain": [
       "  0%|          | 0/25 [00:00<?, ?it/s]"
      ]
     },
     "metadata": {},
     "output_type": "display_data"
    },
    {
     "name": "stdout",
     "output_type": "stream",
     "text": [
      "Valid set: Average loss: 0.4544, Accuracy: 75.20%\n",
      "\n",
      "Epoch: 16\n"
     ]
    },
    {
     "data": {
      "application/vnd.jupyter.widget-view+json": {
       "model_id": "826517398eeb4ff29935a28d3029339f",
       "version_major": 2,
       "version_minor": 0
      },
      "text/plain": [
       "  0%|          | 0/69 [00:00<?, ?it/s]"
      ]
     },
     "metadata": {},
     "output_type": "display_data"
    },
    {
     "name": "stdout",
     "output_type": "stream",
     "text": [
      "Train set: Average loss: 0.4475, Accuracy: 75.76%\n"
     ]
    },
    {
     "data": {
      "application/vnd.jupyter.widget-view+json": {
       "model_id": "2bf807fbdcc3479e906af7e0e182adce",
       "version_major": 2,
       "version_minor": 0
      },
      "text/plain": [
       "  0%|          | 0/25 [00:00<?, ?it/s]"
      ]
     },
     "metadata": {},
     "output_type": "display_data"
    },
    {
     "name": "stdout",
     "output_type": "stream",
     "text": [
      "Valid set: Average loss: 0.4505, Accuracy: 75.10%\n",
      "\n",
      "Epoch: 17\n"
     ]
    },
    {
     "data": {
      "application/vnd.jupyter.widget-view+json": {
       "model_id": "59c1cbbe19474f90b433751379aa4471",
       "version_major": 2,
       "version_minor": 0
      },
      "text/plain": [
       "  0%|          | 0/69 [00:00<?, ?it/s]"
      ]
     },
     "metadata": {},
     "output_type": "display_data"
    },
    {
     "name": "stdout",
     "output_type": "stream",
     "text": [
      "Train set: Average loss: 0.4467, Accuracy: 74.79%\n"
     ]
    },
    {
     "data": {
      "application/vnd.jupyter.widget-view+json": {
       "model_id": "487e04e5a9ce446db435648c6a315aca",
       "version_major": 2,
       "version_minor": 0
      },
      "text/plain": [
       "  0%|          | 0/25 [00:00<?, ?it/s]"
      ]
     },
     "metadata": {},
     "output_type": "display_data"
    },
    {
     "name": "stdout",
     "output_type": "stream",
     "text": [
      "Valid set: Average loss: 0.4526, Accuracy: 75.00%\n",
      "\n",
      "Epoch: 18\n"
     ]
    },
    {
     "data": {
      "application/vnd.jupyter.widget-view+json": {
       "model_id": "253019cdcffc46dd9aad9581bd20b323",
       "version_major": 2,
       "version_minor": 0
      },
      "text/plain": [
       "  0%|          | 0/69 [00:00<?, ?it/s]"
      ]
     },
     "metadata": {},
     "output_type": "display_data"
    },
    {
     "name": "stdout",
     "output_type": "stream",
     "text": [
      "Train set: Average loss: 0.4444, Accuracy: 75.47%\n"
     ]
    },
    {
     "data": {
      "application/vnd.jupyter.widget-view+json": {
       "model_id": "2c255f10d9734ddf9f048ba25de9e63c",
       "version_major": 2,
       "version_minor": 0
      },
      "text/plain": [
       "  0%|          | 0/25 [00:00<?, ?it/s]"
      ]
     },
     "metadata": {},
     "output_type": "display_data"
    },
    {
     "name": "stdout",
     "output_type": "stream",
     "text": [
      "Valid set: Average loss: 0.4479, Accuracy: 75.10%\n",
      "------------- FINISH ----------------\n",
      "\n",
      "Epoch: 1\n"
     ]
    },
    {
     "data": {
      "application/vnd.jupyter.widget-view+json": {
       "model_id": "ca29fc14b89248a09011179650c3290c",
       "version_major": 2,
       "version_minor": 0
      },
      "text/plain": [
       "  0%|          | 0/69 [00:00<?, ?it/s]"
      ]
     },
     "metadata": {},
     "output_type": "display_data"
    },
    {
     "name": "stdout",
     "output_type": "stream",
     "text": [
      "Train set: Average loss: 0.5459, Accuracy: 70.46%\n"
     ]
    },
    {
     "data": {
      "application/vnd.jupyter.widget-view+json": {
       "model_id": "cf011d12a6b5457b88dfc12668dee2b4",
       "version_major": 2,
       "version_minor": 0
      },
      "text/plain": [
       "  0%|          | 0/25 [00:00<?, ?it/s]"
      ]
     },
     "metadata": {},
     "output_type": "display_data"
    },
    {
     "name": "stdout",
     "output_type": "stream",
     "text": [
      "Valid set: Average loss: 0.5368, Accuracy: 70.20%\n",
      "\n",
      "Epoch: 2\n"
     ]
    },
    {
     "data": {
      "application/vnd.jupyter.widget-view+json": {
       "model_id": "44d225c70b5c4b31944b85501c659355",
       "version_major": 2,
       "version_minor": 0
      },
      "text/plain": [
       "  0%|          | 0/69 [00:00<?, ?it/s]"
      ]
     },
     "metadata": {},
     "output_type": "display_data"
    },
    {
     "name": "stdout",
     "output_type": "stream",
     "text": [
      "Train set: Average loss: 0.5242, Accuracy: 70.53%\n"
     ]
    },
    {
     "data": {
      "application/vnd.jupyter.widget-view+json": {
       "model_id": "d1673ddf66b34aa182aed8ab1151e633",
       "version_major": 2,
       "version_minor": 0
      },
      "text/plain": [
       "  0%|          | 0/25 [00:00<?, ?it/s]"
      ]
     },
     "metadata": {},
     "output_type": "display_data"
    },
    {
     "name": "stdout",
     "output_type": "stream",
     "text": [
      "Valid set: Average loss: 0.5134, Accuracy: 71.60%\n",
      "\n",
      "Epoch: 3\n"
     ]
    },
    {
     "data": {
      "application/vnd.jupyter.widget-view+json": {
       "model_id": "ab2d7a8b88044817be4b97f47c968210",
       "version_major": 2,
       "version_minor": 0
      },
      "text/plain": [
       "  0%|          | 0/69 [00:00<?, ?it/s]"
      ]
     },
     "metadata": {},
     "output_type": "display_data"
    },
    {
     "name": "stdout",
     "output_type": "stream",
     "text": [
      "Train set: Average loss: 0.5173, Accuracy: 70.93%\n"
     ]
    },
    {
     "data": {
      "application/vnd.jupyter.widget-view+json": {
       "model_id": "14850fee7fc64e2e9910fb6b19d5282d",
       "version_major": 2,
       "version_minor": 0
      },
      "text/plain": [
       "  0%|          | 0/25 [00:00<?, ?it/s]"
      ]
     },
     "metadata": {},
     "output_type": "display_data"
    },
    {
     "name": "stdout",
     "output_type": "stream",
     "text": [
      "Valid set: Average loss: 0.5045, Accuracy: 71.50%\n",
      "\n",
      "Epoch: 4\n"
     ]
    },
    {
     "data": {
      "application/vnd.jupyter.widget-view+json": {
       "model_id": "547ec75a2d4e47ca849f916894629fc2",
       "version_major": 2,
       "version_minor": 0
      },
      "text/plain": [
       "  0%|          | 0/69 [00:00<?, ?it/s]"
      ]
     },
     "metadata": {},
     "output_type": "display_data"
    },
    {
     "name": "stdout",
     "output_type": "stream",
     "text": [
      "Train set: Average loss: 0.5138, Accuracy: 70.18%\n"
     ]
    },
    {
     "data": {
      "application/vnd.jupyter.widget-view+json": {
       "model_id": "066e8a7c090f41888ebbcd383bee1caf",
       "version_major": 2,
       "version_minor": 0
      },
      "text/plain": [
       "  0%|          | 0/25 [00:00<?, ?it/s]"
      ]
     },
     "metadata": {},
     "output_type": "display_data"
    },
    {
     "name": "stdout",
     "output_type": "stream",
     "text": [
      "Valid set: Average loss: 0.5108, Accuracy: 71.40%\n",
      "\n",
      "Epoch: 5\n"
     ]
    },
    {
     "data": {
      "application/vnd.jupyter.widget-view+json": {
       "model_id": "e1a29d0b837c4068b9a642ace57ba6ad",
       "version_major": 2,
       "version_minor": 0
      },
      "text/plain": [
       "  0%|          | 0/69 [00:00<?, ?it/s]"
      ]
     },
     "metadata": {},
     "output_type": "display_data"
    },
    {
     "name": "stdout",
     "output_type": "stream",
     "text": [
      "Train set: Average loss: 0.5043, Accuracy: 71.50%\n"
     ]
    },
    {
     "data": {
      "application/vnd.jupyter.widget-view+json": {
       "model_id": "ffb1338d8c404c8f8b7c35fd7eeef85a",
       "version_major": 2,
       "version_minor": 0
      },
      "text/plain": [
       "  0%|          | 0/25 [00:00<?, ?it/s]"
      ]
     },
     "metadata": {},
     "output_type": "display_data"
    },
    {
     "name": "stdout",
     "output_type": "stream",
     "text": [
      "Valid set: Average loss: 0.4936, Accuracy: 74.30%\n",
      "\n",
      "Epoch: 6\n"
     ]
    },
    {
     "data": {
      "application/vnd.jupyter.widget-view+json": {
       "model_id": "7c822d67387e44e09439ba78900312d0",
       "version_major": 2,
       "version_minor": 0
      },
      "text/plain": [
       "  0%|          | 0/69 [00:00<?, ?it/s]"
      ]
     },
     "metadata": {},
     "output_type": "display_data"
    },
    {
     "name": "stdout",
     "output_type": "stream",
     "text": [
      "Train set: Average loss: 0.4983, Accuracy: 72.40%\n"
     ]
    },
    {
     "data": {
      "application/vnd.jupyter.widget-view+json": {
       "model_id": "b4b02b061c3148f9b19776e6d435f247",
       "version_major": 2,
       "version_minor": 0
      },
      "text/plain": [
       "  0%|          | 0/25 [00:00<?, ?it/s]"
      ]
     },
     "metadata": {},
     "output_type": "display_data"
    },
    {
     "name": "stdout",
     "output_type": "stream",
     "text": [
      "Valid set: Average loss: 0.4963, Accuracy: 72.90%\n",
      "\n",
      "Epoch: 7\n"
     ]
    },
    {
     "data": {
      "application/vnd.jupyter.widget-view+json": {
       "model_id": "bd616dfb2f1d42e29778aae885f0aed5",
       "version_major": 2,
       "version_minor": 0
      },
      "text/plain": [
       "  0%|          | 0/69 [00:00<?, ?it/s]"
      ]
     },
     "metadata": {},
     "output_type": "display_data"
    },
    {
     "name": "stdout",
     "output_type": "stream",
     "text": [
      "Train set: Average loss: 0.4953, Accuracy: 71.54%\n"
     ]
    },
    {
     "data": {
      "application/vnd.jupyter.widget-view+json": {
       "model_id": "0ee45f9c85c74a4d93ed643c50282a9d",
       "version_major": 2,
       "version_minor": 0
      },
      "text/plain": [
       "  0%|          | 0/25 [00:00<?, ?it/s]"
      ]
     },
     "metadata": {},
     "output_type": "display_data"
    },
    {
     "name": "stdout",
     "output_type": "stream",
     "text": [
      "Valid set: Average loss: 0.5113, Accuracy: 72.70%\n",
      "\n",
      "Epoch: 8\n"
     ]
    },
    {
     "data": {
      "application/vnd.jupyter.widget-view+json": {
       "model_id": "3b70826e46ac4eb7a44ed25110e5b3f3",
       "version_major": 2,
       "version_minor": 0
      },
      "text/plain": [
       "  0%|          | 0/69 [00:00<?, ?it/s]"
      ]
     },
     "metadata": {},
     "output_type": "display_data"
    },
    {
     "name": "stdout",
     "output_type": "stream",
     "text": [
      "Train set: Average loss: 0.4954, Accuracy: 71.36%\n"
     ]
    },
    {
     "data": {
      "application/vnd.jupyter.widget-view+json": {
       "model_id": "0bd93eab11d14db49cb7b84885dd331b",
       "version_major": 2,
       "version_minor": 0
      },
      "text/plain": [
       "  0%|          | 0/25 [00:00<?, ?it/s]"
      ]
     },
     "metadata": {},
     "output_type": "display_data"
    },
    {
     "name": "stdout",
     "output_type": "stream",
     "text": [
      "Valid set: Average loss: 0.4933, Accuracy: 72.40%\n",
      "\n",
      "Epoch: 9\n"
     ]
    },
    {
     "data": {
      "application/vnd.jupyter.widget-view+json": {
       "model_id": "6b9c325fd09f432f882dd1acfc376ef2",
       "version_major": 2,
       "version_minor": 0
      },
      "text/plain": [
       "  0%|          | 0/69 [00:00<?, ?it/s]"
      ]
     },
     "metadata": {},
     "output_type": "display_data"
    },
    {
     "name": "stdout",
     "output_type": "stream",
     "text": [
      "Train set: Average loss: 0.4926, Accuracy: 71.50%\n"
     ]
    },
    {
     "data": {
      "application/vnd.jupyter.widget-view+json": {
       "model_id": "77d271abeba74ca9a98d8c2487ac5401",
       "version_major": 2,
       "version_minor": 0
      },
      "text/plain": [
       "  0%|          | 0/25 [00:00<?, ?it/s]"
      ]
     },
     "metadata": {},
     "output_type": "display_data"
    },
    {
     "name": "stdout",
     "output_type": "stream",
     "text": [
      "Valid set: Average loss: 0.4791, Accuracy: 75.10%\n",
      "\n",
      "Epoch: 10\n"
     ]
    },
    {
     "data": {
      "application/vnd.jupyter.widget-view+json": {
       "model_id": "996009969d4f4e63b4185cfde84a4dc3",
       "version_major": 2,
       "version_minor": 0
      },
      "text/plain": [
       "  0%|          | 0/69 [00:00<?, ?it/s]"
      ]
     },
     "metadata": {},
     "output_type": "display_data"
    },
    {
     "name": "stdout",
     "output_type": "stream",
     "text": [
      "Train set: Average loss: 0.5008, Accuracy: 71.68%\n"
     ]
    },
    {
     "data": {
      "application/vnd.jupyter.widget-view+json": {
       "model_id": "729a3d6dfa1f4e178e963f1263f09c3e",
       "version_major": 2,
       "version_minor": 0
      },
      "text/plain": [
       "  0%|          | 0/25 [00:00<?, ?it/s]"
      ]
     },
     "metadata": {},
     "output_type": "display_data"
    },
    {
     "name": "stdout",
     "output_type": "stream",
     "text": [
      "Valid set: Average loss: 0.4908, Accuracy: 73.20%\n",
      "\n",
      "Epoch: 11\n"
     ]
    },
    {
     "data": {
      "application/vnd.jupyter.widget-view+json": {
       "model_id": "67bec3403e8b4d5cb6e57aba401a33cf",
       "version_major": 2,
       "version_minor": 0
      },
      "text/plain": [
       "  0%|          | 0/69 [00:00<?, ?it/s]"
      ]
     },
     "metadata": {},
     "output_type": "display_data"
    },
    {
     "name": "stdout",
     "output_type": "stream",
     "text": [
      "Train set: Average loss: 0.4873, Accuracy: 71.72%\n"
     ]
    },
    {
     "data": {
      "application/vnd.jupyter.widget-view+json": {
       "model_id": "ca408f413e83422db24657704ca74562",
       "version_major": 2,
       "version_minor": 0
      },
      "text/plain": [
       "  0%|          | 0/25 [00:00<?, ?it/s]"
      ]
     },
     "metadata": {},
     "output_type": "display_data"
    },
    {
     "name": "stdout",
     "output_type": "stream",
     "text": [
      "Valid set: Average loss: 0.4951, Accuracy: 73.30%\n",
      "\n",
      "Epoch: 12\n"
     ]
    },
    {
     "data": {
      "application/vnd.jupyter.widget-view+json": {
       "model_id": "126f29b585714a63900a8943d60c2432",
       "version_major": 2,
       "version_minor": 0
      },
      "text/plain": [
       "  0%|          | 0/69 [00:00<?, ?it/s]"
      ]
     },
     "metadata": {},
     "output_type": "display_data"
    },
    {
     "name": "stdout",
     "output_type": "stream",
     "text": [
      "Train set: Average loss: 0.4949, Accuracy: 72.00%\n"
     ]
    },
    {
     "data": {
      "application/vnd.jupyter.widget-view+json": {
       "model_id": "77444af13d7d4626bfa9b10390e87660",
       "version_major": 2,
       "version_minor": 0
      },
      "text/plain": [
       "  0%|          | 0/25 [00:00<?, ?it/s]"
      ]
     },
     "metadata": {},
     "output_type": "display_data"
    },
    {
     "name": "stdout",
     "output_type": "stream",
     "text": [
      "Valid set: Average loss: 0.4843, Accuracy: 74.70%\n",
      "\n",
      "Epoch: 13\n"
     ]
    },
    {
     "data": {
      "application/vnd.jupyter.widget-view+json": {
       "model_id": "e0466117435a46aea6886667a0ca7798",
       "version_major": 2,
       "version_minor": 0
      },
      "text/plain": [
       "  0%|          | 0/69 [00:00<?, ?it/s]"
      ]
     },
     "metadata": {},
     "output_type": "display_data"
    },
    {
     "name": "stdout",
     "output_type": "stream",
     "text": [
      "Train set: Average loss: 0.4995, Accuracy: 72.22%\n"
     ]
    },
    {
     "data": {
      "application/vnd.jupyter.widget-view+json": {
       "model_id": "62615fe647e943e1b840e557ebc88190",
       "version_major": 2,
       "version_minor": 0
      },
      "text/plain": [
       "  0%|          | 0/25 [00:00<?, ?it/s]"
      ]
     },
     "metadata": {},
     "output_type": "display_data"
    },
    {
     "name": "stdout",
     "output_type": "stream",
     "text": [
      "Valid set: Average loss: 0.4910, Accuracy: 75.10%\n",
      "\n",
      "Epoch: 14\n"
     ]
    },
    {
     "data": {
      "application/vnd.jupyter.widget-view+json": {
       "model_id": "f65b29563f754fe794825c620afee688",
       "version_major": 2,
       "version_minor": 0
      },
      "text/plain": [
       "  0%|          | 0/69 [00:00<?, ?it/s]"
      ]
     },
     "metadata": {},
     "output_type": "display_data"
    },
    {
     "name": "stdout",
     "output_type": "stream",
     "text": [
      "Train set: Average loss: 0.4908, Accuracy: 72.18%\n"
     ]
    },
    {
     "data": {
      "application/vnd.jupyter.widget-view+json": {
       "model_id": "3653723833d445d48ecf37a01df159b2",
       "version_major": 2,
       "version_minor": 0
      },
      "text/plain": [
       "  0%|          | 0/25 [00:00<?, ?it/s]"
      ]
     },
     "metadata": {},
     "output_type": "display_data"
    },
    {
     "name": "stdout",
     "output_type": "stream",
     "text": [
      "Valid set: Average loss: 0.4807, Accuracy: 74.20%\n",
      "\n",
      "Epoch: 15\n"
     ]
    },
    {
     "data": {
      "application/vnd.jupyter.widget-view+json": {
       "model_id": "7fb4090116b24fb08eccec8df6f619e8",
       "version_major": 2,
       "version_minor": 0
      },
      "text/plain": [
       "  0%|          | 0/69 [00:00<?, ?it/s]"
      ]
     },
     "metadata": {},
     "output_type": "display_data"
    },
    {
     "name": "stdout",
     "output_type": "stream",
     "text": [
      "Train set: Average loss: 0.4901, Accuracy: 71.72%\n"
     ]
    },
    {
     "data": {
      "application/vnd.jupyter.widget-view+json": {
       "model_id": "52df279a898946cca814dc15dd22f730",
       "version_major": 2,
       "version_minor": 0
      },
      "text/plain": [
       "  0%|          | 0/25 [00:00<?, ?it/s]"
      ]
     },
     "metadata": {},
     "output_type": "display_data"
    },
    {
     "name": "stdout",
     "output_type": "stream",
     "text": [
      "Valid set: Average loss: 0.4775, Accuracy: 73.30%\n",
      "\n",
      "Epoch: 16\n"
     ]
    },
    {
     "data": {
      "application/vnd.jupyter.widget-view+json": {
       "model_id": "4c464512760f4eaf9e5350dc5e8e310d",
       "version_major": 2,
       "version_minor": 0
      },
      "text/plain": [
       "  0%|          | 0/69 [00:00<?, ?it/s]"
      ]
     },
     "metadata": {},
     "output_type": "display_data"
    },
    {
     "name": "stdout",
     "output_type": "stream",
     "text": [
      "Train set: Average loss: 0.4797, Accuracy: 72.57%\n"
     ]
    },
    {
     "data": {
      "application/vnd.jupyter.widget-view+json": {
       "model_id": "06af3677f2324dcf858a704faa8553e3",
       "version_major": 2,
       "version_minor": 0
      },
      "text/plain": [
       "  0%|          | 0/25 [00:00<?, ?it/s]"
      ]
     },
     "metadata": {},
     "output_type": "display_data"
    },
    {
     "name": "stdout",
     "output_type": "stream",
     "text": [
      "Valid set: Average loss: 0.4765, Accuracy: 74.70%\n",
      "\n",
      "Epoch: 17\n"
     ]
    },
    {
     "data": {
      "application/vnd.jupyter.widget-view+json": {
       "model_id": "ed3560fcca09479f9764a43274cc1ed1",
       "version_major": 2,
       "version_minor": 0
      },
      "text/plain": [
       "  0%|          | 0/69 [00:00<?, ?it/s]"
      ]
     },
     "metadata": {},
     "output_type": "display_data"
    },
    {
     "name": "stdout",
     "output_type": "stream",
     "text": [
      "Train set: Average loss: 0.4856, Accuracy: 72.79%\n"
     ]
    },
    {
     "data": {
      "application/vnd.jupyter.widget-view+json": {
       "model_id": "0490008df11048299c6c4810067e9f88",
       "version_major": 2,
       "version_minor": 0
      },
      "text/plain": [
       "  0%|          | 0/25 [00:00<?, ?it/s]"
      ]
     },
     "metadata": {},
     "output_type": "display_data"
    },
    {
     "name": "stdout",
     "output_type": "stream",
     "text": [
      "Valid set: Average loss: 0.4920, Accuracy: 73.00%\n",
      "\n",
      "Epoch: 18\n"
     ]
    },
    {
     "data": {
      "application/vnd.jupyter.widget-view+json": {
       "model_id": "177b076981c944b89080f2d8cc5640a0",
       "version_major": 2,
       "version_minor": 0
      },
      "text/plain": [
       "  0%|          | 0/69 [00:00<?, ?it/s]"
      ]
     },
     "metadata": {},
     "output_type": "display_data"
    },
    {
     "name": "stdout",
     "output_type": "stream",
     "text": [
      "Train set: Average loss: 0.4827, Accuracy: 72.93%\n"
     ]
    },
    {
     "data": {
      "application/vnd.jupyter.widget-view+json": {
       "model_id": "2abb5fada6c743b994f55ea1c588755b",
       "version_major": 2,
       "version_minor": 0
      },
      "text/plain": [
       "  0%|          | 0/25 [00:00<?, ?it/s]"
      ]
     },
     "metadata": {},
     "output_type": "display_data"
    },
    {
     "name": "stdout",
     "output_type": "stream",
     "text": [
      "Valid set: Average loss: 0.4844, Accuracy: 72.40%\n",
      "------------- FINISH ----------------\n"
     ]
    }
   ],
   "source": [
    "model_1 = initialize_model('vgg11', 2, \n",
    "                                    feature_extract=True, use_pretrained=True)[0]\n",
    "\n",
    "model_vgg11_feat = RSNA_model(model_1, csv_use = True)\n",
    "model_vgg11_feat_aug = RSNA_model(model_1, csv_use = True)\n",
    "\n",
    "main_fun(model_vgg11_feat, train_loader, valid_loader) ## с метаинформацией без аугментации\n",
    "main_fun(model_vgg11_feat_aug, train_loader, valid_loader, augment_ds_incr = True) ## c метаинформацией и с аугментацией"
   ]
  },
  {
   "cell_type": "code",
   "execution_count": 19,
   "metadata": {
    "execution": {
     "iopub.execute_input": "2023-04-01T16:34:27.860633Z",
     "iopub.status.busy": "2023-04-01T16:34:27.859065Z",
     "iopub.status.idle": "2023-04-01T16:34:31.312775Z",
     "shell.execute_reply": "2023-04-01T16:34:31.311732Z",
     "shell.execute_reply.started": "2023-04-01T16:34:27.860594Z"
    }
   },
   "outputs": [],
   "source": [
    "## nice explanation! https://discuss.pytorch.org/t/how-the-pytorch-freeze-network-in-some-layers-only-the-rest-of-the-training/7088/2\n",
    "################## all layers unfreezing #####################\n",
    "MODE = 'none' #'model_selection'\n",
    "model_1 = initialize_model('vgg11', 2, \n",
    "                                    feature_extract=False, use_pretrained=True)[0]\n",
    "\n",
    "model_2 = initialize_model('vgg11', 2, \n",
    "                                feature_extract=True, use_pretrained=True)[0]\n",
    "\n",
    "summary(model =  model_1,\n",
    "        input_size=(32,3,224,224),\n",
    "        col_names = ['input_size','output_size','num_params','trainable'])\n",
    "\n",
    "if MODE == 'model_selection':\n",
    "    model_vgg_unfreezed = RSNA_model(model_1, csv_use = True)\n",
    "\n",
    "################## fully-connected layers unfreezing #####################\n",
    "\n",
    "    count = 0\n",
    "    for child in model_1.children():\n",
    "        if count < 2:\n",
    "            for param in child.parameters():\n",
    "                param.requires_grad = False\n",
    "        count+=1\n",
    "\n",
    "    model_vgg_fc_unfreezed = RSNA_model(model_1, csv_use = True)\n",
    "\n",
    "################## last fully-connected layer unfreezing #####################\n",
    "\n",
    "## \n",
    "\n",
    "## VV - to count layers\n",
    "    count = 0\n",
    "    for param in model_2.parameters():\n",
    "        print(str(count) + '_'+ str(len(param)))\n",
    "        count+=1\n",
    "\n",
    "    count = 0\n",
    "    for param in model_2.parameters():\n",
    "        if count > 33:\n",
    "            param.requires_grad = True\n",
    "        count += 1\n",
    "\n",
    "\n",
    "    model_vgg_last_fc_unfreezed = RSNA_model(model_2, csv_use = True)\n",
    "\n",
    "    vgg_model_list = {'model_vgg_unfreezed'         : model_vgg_unfreezed,\n",
    "                      'model_vgg_fc_unfreezed'      : model_vgg_fc_unfreezed,\n",
    "                      'model_vgg_last_fc_unfreezed' : model_vgg_last_fc_unfreezed\n",
    "        \n",
    "    }\n",
    "    for model in vgg_model_list.values():\n",
    "        main_fun(model, train_loader, valid_loader)"
   ]
  },
  {
   "cell_type": "markdown",
   "metadata": {},
   "source": [
    "## **4.2** Оценка метрик"
   ]
  },
  {
   "cell_type": "code",
   "execution_count": 20,
   "metadata": {
    "execution": {
     "iopub.execute_input": "2023-04-01T16:34:31.314609Z",
     "iopub.status.busy": "2023-04-01T16:34:31.314151Z",
     "iopub.status.idle": "2023-04-01T16:34:31.322612Z",
     "shell.execute_reply": "2023-04-01T16:34:31.321415Z",
     "shell.execute_reply.started": "2023-04-01T16:34:31.314573Z"
    }
   },
   "outputs": [],
   "source": [
    "from sklearn.metrics import roc_auc_score\n",
    "\n",
    "## VV: probabilistic F-score https://www.kaggle.com/code/sohier/probabilistic-f-score\n",
    "def pfbeta(labels, predictions, beta=1): ##VV: beta=1 based on 1st place notebook\n",
    "    y_true_count = 0\n",
    "    ctp = 0\n",
    "    cfp = 0\n",
    "\n",
    "    for idx in range(len(labels)):\n",
    "        prediction = min(max(predictions[idx], 0), 1)\n",
    "        if (labels[idx]):\n",
    "            y_true_count += 1\n",
    "            ctp += prediction\n",
    "        else:\n",
    "            cfp += prediction\n",
    "\n",
    "    beta_squared = beta * beta\n",
    "    c_precision = ctp / (ctp + cfp)\n",
    "    c_recall = ctp / y_true_count\n",
    "    if (c_precision > 0 and c_recall > 0):\n",
    "        result = (1 + beta_squared) * (c_precision * c_recall) / (beta_squared * c_precision + c_recall)\n",
    "        return result\n",
    "    else:\n",
    "        return 0"
   ]
  },
  {
   "cell_type": "code",
   "execution_count": 21,
   "metadata": {
    "execution": {
     "iopub.execute_input": "2023-04-01T16:34:31.324655Z",
     "iopub.status.busy": "2023-04-01T16:34:31.324259Z",
     "iopub.status.idle": "2023-04-01T16:34:31.336497Z",
     "shell.execute_reply": "2023-04-01T16:34:31.335639Z",
     "shell.execute_reply.started": "2023-04-01T16:34:31.324619Z"
    }
   },
   "outputs": [],
   "source": [
    "def metric_calc(model, loader):\n",
    "    with torch.no_grad():\n",
    "        model_test = model.eval() #trained_model_list['vgg11_csv']\n",
    "        preds, obs = [], []\n",
    "        for k, data in enumerate(loader): # valid_loader):\n",
    "            image, meta, target = data\n",
    "            image, meta, target = image.to(device), meta.to(device), target.to(device)\n",
    "            out = model_test(image, meta)\n",
    "            pred = out.argmax(dim=1, keepdim=True)\n",
    "            preds.append(pred.flatten().detach().cpu().numpy())\n",
    "            obs.append(target.detach().cpu().numpy())\n",
    "            \n",
    "        obs = [item for sublist in obs for item in sublist]\n",
    "        preds = [item for sublist in preds for item in sublist]\n",
    "        \n",
    "        roc_auc = roc_auc_score(obs, preds)\n",
    "        pf_beta = pfbeta(obs, preds)\n",
    "        \n",
    "        return roc_auc, pf_beta\n"
   ]
  },
  {
   "cell_type": "code",
   "execution_count": 24,
   "metadata": {
    "execution": {
     "iopub.execute_input": "2023-04-01T16:42:04.210432Z",
     "iopub.status.busy": "2023-04-01T16:42:04.209292Z",
     "iopub.status.idle": "2023-04-01T16:42:46.631570Z",
     "shell.execute_reply": "2023-04-01T16:42:46.630421Z",
     "shell.execute_reply.started": "2023-04-01T16:42:04.210377Z"
    }
   },
   "outputs": [
    {
     "name": "stdout",
     "output_type": "stream",
     "text": [
      "TRAINING: aucroc: 0.72, probability F-score:0.62\n",
      "--------------------------------------------------------------------\n",
      "VALID: aucroc: 0.72, probability F-score:0.62\n"
     ]
    }
   ],
   "source": [
    "best_model = model_vgg11_feat_aug\n",
    "\n",
    "roc_tr, F_tr = metric_calc(best_model,train_loader)\n",
    "roc_val, F_val = metric_calc(best_model,valid_loader)\n",
    "print(f'TRAINING: aucroc: {round(roc_tr,2)}, probability F-score:{round(F_tr,2)}')\n",
    "print('--------------------------------------------------------------------')\n",
    "print(f'VALID: aucroc: {round(roc_val,2)}, probability F-score:{round(F_val,2)}')"
   ]
  },
  {
   "cell_type": "markdown",
   "metadata": {},
   "source": [
    "Теперь посчитаем различные метрики для оценки качества моделей:  rocauc и probabilistic F-score (последний является ключевым критерием в соревновании.\n",
    "Сохраним оптимальную модель"
   ]
  },
  {
   "cell_type": "code",
   "execution_count": 25,
   "metadata": {
    "execution": {
     "iopub.execute_input": "2023-04-01T16:43:56.196110Z",
     "iopub.status.busy": "2023-04-01T16:43:56.194939Z",
     "iopub.status.idle": "2023-04-01T16:43:58.198288Z",
     "shell.execute_reply": "2023-04-01T16:43:58.196901Z",
     "shell.execute_reply.started": "2023-04-01T16:43:56.196067Z"
    }
   },
   "outputs": [],
   "source": [
    "torch.save(best_model,'/kaggle/working/best_model.pt')"
   ]
  }
 ],
 "metadata": {
  "kernelspec": {
   "display_name": "Python 3 (ipykernel)",
   "language": "python",
   "name": "python3"
  },
  "language_info": {
   "codemirror_mode": {
    "name": "ipython",
    "version": 3
   },
   "file_extension": ".py",
   "mimetype": "text/x-python",
   "name": "python",
   "nbconvert_exporter": "python",
   "pygments_lexer": "ipython3",
   "version": "3.9.13"
  }
 },
 "nbformat": 4,
 "nbformat_minor": 4
}
